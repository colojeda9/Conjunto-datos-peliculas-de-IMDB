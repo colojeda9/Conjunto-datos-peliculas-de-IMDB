{
 "cells": [
  {
   "cell_type": "markdown",
   "id": "22c53d8a",
   "metadata": {},
   "source": [
    "* # El conjunto de datos de IMDB contiene información sobre un poco mas de 10,000 películas, incluidos sus nombres, fechas de lanzamiento, calificaciones de usuarios, géneros, descripciones generales, miembros del elenco y del equipo, títulos originales, estado de producción, idiomas originales, presupuestos, ingresos y países de origen.\n",
    "    * ## Haremos un análisis en general para poder identificar tendencias en géneros cinematograficos, buscar relaciones que tengan entre los presupuestos de peliculas y predecir el ingreso o el exito que podria tener alguna pelicula a futuro"
   ]
  },
  {
   "cell_type": "code",
   "execution_count": 1,
   "id": "c7509e77",
   "metadata": {},
   "outputs": [],
   "source": [
    "import pandas as pd\n",
    "import matplotlib.pyplot as plt\n",
    "import numpy as np"
   ]
  },
  {
   "cell_type": "code",
   "execution_count": 2,
   "id": "bf4523b8",
   "metadata": {},
   "outputs": [
    {
     "name": "stdout",
     "output_type": "stream",
     "text": [
      "<class 'pandas.core.frame.DataFrame'>\n",
      "RangeIndex: 10178 entries, 0 to 10177\n",
      "Data columns (total 12 columns):\n",
      " #   Column      Non-Null Count  Dtype  \n",
      "---  ------      --------------  -----  \n",
      " 0   names       10178 non-null  object \n",
      " 1   date_x      10178 non-null  object \n",
      " 2   score       10178 non-null  float64\n",
      " 3   genre       10093 non-null  object \n",
      " 4   overview    10178 non-null  object \n",
      " 5   crew        10122 non-null  object \n",
      " 6   orig_title  10178 non-null  object \n",
      " 7   status      10178 non-null  object \n",
      " 8   orig_lang   10178 non-null  object \n",
      " 9   budget_x    10178 non-null  float64\n",
      " 10  revenue     10178 non-null  float64\n",
      " 11  country     10178 non-null  object \n",
      "dtypes: float64(3), object(9)\n",
      "memory usage: 954.3+ KB\n"
     ]
    }
   ],
   "source": [
    "data = pd.read_csv(\"./movies_imdb.csv\")\n",
    "data.info()"
   ]
  },
  {
   "cell_type": "code",
   "execution_count": 3,
   "id": "9432257f",
   "metadata": {},
   "outputs": [],
   "source": [
    "#### Como siempre hacemos, cambiaremos los nombres de la columna a castellano asi es mas legible.\n",
    "data = data.rename(columns={\"names\":\"nombre\",\"date_x\":\"fecha_lanzamiento\",\"score\":\"opiniones_usuarios\",\n",
    "                            \"genre\":\"genero\",\"overview\":\"vision_general\",\"crew\":\"reparto\",\"orig_title\":\"titulo_original\",\n",
    "                           \"status\":\"estado_lanzamiento\",\"orig_lang\":\"idioma_original\",\"budget_x\":\"presupuesto\",\n",
    "                           \"revenue\":\"ganancia\",\"country\":\"pais\"})"
   ]
  },
  {
   "cell_type": "code",
   "execution_count": 4,
   "id": "2e4044b9",
   "metadata": {},
   "outputs": [
    {
     "data": {
      "text/html": [
       "<div>\n",
       "<style scoped>\n",
       "    .dataframe tbody tr th:only-of-type {\n",
       "        vertical-align: middle;\n",
       "    }\n",
       "\n",
       "    .dataframe tbody tr th {\n",
       "        vertical-align: top;\n",
       "    }\n",
       "\n",
       "    .dataframe thead th {\n",
       "        text-align: right;\n",
       "    }\n",
       "</style>\n",
       "<table border=\"1\" class=\"dataframe\">\n",
       "  <thead>\n",
       "    <tr style=\"text-align: right;\">\n",
       "      <th></th>\n",
       "      <th>nombre</th>\n",
       "      <th>fecha_lanzamiento</th>\n",
       "      <th>opiniones_usuarios</th>\n",
       "      <th>genero</th>\n",
       "      <th>vision_general</th>\n",
       "      <th>reparto</th>\n",
       "      <th>titulo_original</th>\n",
       "      <th>estado_lanzamiento</th>\n",
       "      <th>idioma_original</th>\n",
       "      <th>presupuesto</th>\n",
       "      <th>ganancia</th>\n",
       "      <th>pais</th>\n",
       "    </tr>\n",
       "  </thead>\n",
       "  <tbody>\n",
       "    <tr>\n",
       "      <th>0</th>\n",
       "      <td>Creed III</td>\n",
       "      <td>03/02/2023</td>\n",
       "      <td>73.0</td>\n",
       "      <td>Drama, Action</td>\n",
       "      <td>After dominating the boxing world, Adonis Cree...</td>\n",
       "      <td>Michael B. Jordan, Adonis Creed, Tessa Thompso...</td>\n",
       "      <td>Creed III</td>\n",
       "      <td>Released</td>\n",
       "      <td>English</td>\n",
       "      <td>75000000.0</td>\n",
       "      <td>2.716167e+08</td>\n",
       "      <td>AU</td>\n",
       "    </tr>\n",
       "    <tr>\n",
       "      <th>1</th>\n",
       "      <td>Avatar: The Way of Water</td>\n",
       "      <td>12/15/2022</td>\n",
       "      <td>78.0</td>\n",
       "      <td>Science Fiction, Adventure, Action</td>\n",
       "      <td>Set more than a decade after the events of the...</td>\n",
       "      <td>Sam Worthington, Jake Sully, Zoe Saldaña, Neyt...</td>\n",
       "      <td>Avatar: The Way of Water</td>\n",
       "      <td>Released</td>\n",
       "      <td>English</td>\n",
       "      <td>460000000.0</td>\n",
       "      <td>2.316795e+09</td>\n",
       "      <td>AU</td>\n",
       "    </tr>\n",
       "    <tr>\n",
       "      <th>2</th>\n",
       "      <td>The Super Mario Bros. Movie</td>\n",
       "      <td>04/05/2023</td>\n",
       "      <td>76.0</td>\n",
       "      <td>Animation, Adventure, Family, Fantasy, Comedy</td>\n",
       "      <td>While working underground to fix a water main,...</td>\n",
       "      <td>Chris Pratt, Mario (voice), Anya Taylor-Joy, P...</td>\n",
       "      <td>The Super Mario Bros. Movie</td>\n",
       "      <td>Released</td>\n",
       "      <td>English</td>\n",
       "      <td>100000000.0</td>\n",
       "      <td>7.244590e+08</td>\n",
       "      <td>AU</td>\n",
       "    </tr>\n",
       "    <tr>\n",
       "      <th>3</th>\n",
       "      <td>Mummies</td>\n",
       "      <td>01/05/2023</td>\n",
       "      <td>70.0</td>\n",
       "      <td>Animation, Comedy, Family, Adventure, Fantasy</td>\n",
       "      <td>Through a series of unfortunate events, three ...</td>\n",
       "      <td>Óscar Barberán, Thut (voice), Ana Esther Albor...</td>\n",
       "      <td>Momias</td>\n",
       "      <td>Released</td>\n",
       "      <td>Spanish, Castilian</td>\n",
       "      <td>12300000.0</td>\n",
       "      <td>3.420000e+07</td>\n",
       "      <td>AU</td>\n",
       "    </tr>\n",
       "    <tr>\n",
       "      <th>4</th>\n",
       "      <td>Supercell</td>\n",
       "      <td>03/17/2023</td>\n",
       "      <td>61.0</td>\n",
       "      <td>Action</td>\n",
       "      <td>Good-hearted teenager William always lived in ...</td>\n",
       "      <td>Skeet Ulrich, Roy Cameron, Anne Heche, Dr Quin...</td>\n",
       "      <td>Supercell</td>\n",
       "      <td>Released</td>\n",
       "      <td>English</td>\n",
       "      <td>77000000.0</td>\n",
       "      <td>3.409420e+08</td>\n",
       "      <td>US</td>\n",
       "    </tr>\n",
       "  </tbody>\n",
       "</table>\n",
       "</div>"
      ],
      "text/plain": [
       "                        nombre fecha_lanzamiento  opiniones_usuarios  \\\n",
       "0                    Creed III       03/02/2023                 73.0   \n",
       "1     Avatar: The Way of Water       12/15/2022                 78.0   \n",
       "2  The Super Mario Bros. Movie       04/05/2023                 76.0   \n",
       "3                      Mummies       01/05/2023                 70.0   \n",
       "4                    Supercell       03/17/2023                 61.0   \n",
       "\n",
       "                                          genero  \\\n",
       "0                                  Drama, Action   \n",
       "1             Science Fiction, Adventure, Action   \n",
       "2  Animation, Adventure, Family, Fantasy, Comedy   \n",
       "3  Animation, Comedy, Family, Adventure, Fantasy   \n",
       "4                                         Action   \n",
       "\n",
       "                                      vision_general  \\\n",
       "0  After dominating the boxing world, Adonis Cree...   \n",
       "1  Set more than a decade after the events of the...   \n",
       "2  While working underground to fix a water main,...   \n",
       "3  Through a series of unfortunate events, three ...   \n",
       "4  Good-hearted teenager William always lived in ...   \n",
       "\n",
       "                                             reparto  \\\n",
       "0  Michael B. Jordan, Adonis Creed, Tessa Thompso...   \n",
       "1  Sam Worthington, Jake Sully, Zoe Saldaña, Neyt...   \n",
       "2  Chris Pratt, Mario (voice), Anya Taylor-Joy, P...   \n",
       "3  Óscar Barberán, Thut (voice), Ana Esther Albor...   \n",
       "4  Skeet Ulrich, Roy Cameron, Anne Heche, Dr Quin...   \n",
       "\n",
       "               titulo_original estado_lanzamiento      idioma_original  \\\n",
       "0                    Creed III           Released              English   \n",
       "1     Avatar: The Way of Water           Released              English   \n",
       "2  The Super Mario Bros. Movie           Released              English   \n",
       "3                       Momias           Released   Spanish, Castilian   \n",
       "4                    Supercell           Released              English   \n",
       "\n",
       "   presupuesto      ganancia pais  \n",
       "0   75000000.0  2.716167e+08   AU  \n",
       "1  460000000.0  2.316795e+09   AU  \n",
       "2  100000000.0  7.244590e+08   AU  \n",
       "3   12300000.0  3.420000e+07   AU  \n",
       "4   77000000.0  3.409420e+08   US  "
      ]
     },
     "execution_count": 4,
     "metadata": {},
     "output_type": "execute_result"
    }
   ],
   "source": [
    "data.head()"
   ]
  },
  {
   "cell_type": "markdown",
   "id": "8787fa67",
   "metadata": {},
   "source": [
    "**Observación**\n",
    "* Lo que podemos ver es que solamente tenemos 3 columnas con valore numericos, las demas son variables.\n",
    "----"
   ]
  },
  {
   "cell_type": "code",
   "execution_count": 5,
   "id": "ece5d57c",
   "metadata": {},
   "outputs": [
    {
     "data": {
      "text/html": [
       "<div>\n",
       "<style scoped>\n",
       "    .dataframe tbody tr th:only-of-type {\n",
       "        vertical-align: middle;\n",
       "    }\n",
       "\n",
       "    .dataframe tbody tr th {\n",
       "        vertical-align: top;\n",
       "    }\n",
       "\n",
       "    .dataframe thead th {\n",
       "        text-align: right;\n",
       "    }\n",
       "</style>\n",
       "<table border=\"1\" class=\"dataframe\">\n",
       "  <thead>\n",
       "    <tr style=\"text-align: right;\">\n",
       "      <th></th>\n",
       "      <th>opiniones_usuarios</th>\n",
       "      <th>presupuesto</th>\n",
       "      <th>ganancia</th>\n",
       "    </tr>\n",
       "  </thead>\n",
       "  <tbody>\n",
       "    <tr>\n",
       "      <th>count</th>\n",
       "      <td>10178.000000</td>\n",
       "      <td>1.017800e+04</td>\n",
       "      <td>1.017800e+04</td>\n",
       "    </tr>\n",
       "    <tr>\n",
       "      <th>mean</th>\n",
       "      <td>63.497052</td>\n",
       "      <td>6.488238e+07</td>\n",
       "      <td>2.531401e+08</td>\n",
       "    </tr>\n",
       "    <tr>\n",
       "      <th>std</th>\n",
       "      <td>13.537012</td>\n",
       "      <td>5.707565e+07</td>\n",
       "      <td>2.777880e+08</td>\n",
       "    </tr>\n",
       "    <tr>\n",
       "      <th>min</th>\n",
       "      <td>0.000000</td>\n",
       "      <td>1.000000e+00</td>\n",
       "      <td>0.000000e+00</td>\n",
       "    </tr>\n",
       "    <tr>\n",
       "      <th>25%</th>\n",
       "      <td>59.000000</td>\n",
       "      <td>1.500000e+07</td>\n",
       "      <td>2.858898e+07</td>\n",
       "    </tr>\n",
       "    <tr>\n",
       "      <th>50%</th>\n",
       "      <td>65.000000</td>\n",
       "      <td>5.000000e+07</td>\n",
       "      <td>1.529349e+08</td>\n",
       "    </tr>\n",
       "    <tr>\n",
       "      <th>75%</th>\n",
       "      <td>71.000000</td>\n",
       "      <td>1.050000e+08</td>\n",
       "      <td>4.178021e+08</td>\n",
       "    </tr>\n",
       "    <tr>\n",
       "      <th>max</th>\n",
       "      <td>100.000000</td>\n",
       "      <td>4.600000e+08</td>\n",
       "      <td>2.923706e+09</td>\n",
       "    </tr>\n",
       "  </tbody>\n",
       "</table>\n",
       "</div>"
      ],
      "text/plain": [
       "       opiniones_usuarios   presupuesto      ganancia\n",
       "count        10178.000000  1.017800e+04  1.017800e+04\n",
       "mean            63.497052  6.488238e+07  2.531401e+08\n",
       "std             13.537012  5.707565e+07  2.777880e+08\n",
       "min              0.000000  1.000000e+00  0.000000e+00\n",
       "25%             59.000000  1.500000e+07  2.858898e+07\n",
       "50%             65.000000  5.000000e+07  1.529349e+08\n",
       "75%             71.000000  1.050000e+08  4.178021e+08\n",
       "max            100.000000  4.600000e+08  2.923706e+09"
      ]
     },
     "execution_count": 5,
     "metadata": {},
     "output_type": "execute_result"
    }
   ],
   "source": [
    "data.describe()"
   ]
  },
  {
   "cell_type": "markdown",
   "id": "8eee19c0",
   "metadata": {},
   "source": [
    "**Observación**\n",
    "* **OPINIONES DE USUARIOS**:\n",
    "    * la media es de 63.49\n",
    "    * la STD = 13.53\n",
    "* **PRESUPUESTO**:\n",
    "    * Media = 6.488238e+07\n",
    "    * STD = 5.707565e+07\n",
    "* **GANANCIAS**:\n",
    "    * Media de ganancias = 2.531401e+08\n",
    "    * STD sobre las ganancias = 2.777880e+08\n",
    "\n",
    "    \n",
    "    \n",
    "* **STD:** La desviación estándar es la medida de dispersión más común, que indica qué tan dispersos están los datos alrededor de la media. Es decir que dicho valor tiende a desviarse de la media tanto hacia arriba y abajo."
   ]
  },
  {
   "cell_type": "code",
   "execution_count": 6,
   "id": "58ce7596",
   "metadata": {},
   "outputs": [
    {
     "data": {
      "text/plain": [
       "nombre                 0\n",
       "fecha_lanzamiento      0\n",
       "opiniones_usuarios     0\n",
       "genero                85\n",
       "vision_general         0\n",
       "reparto               56\n",
       "titulo_original        0\n",
       "estado_lanzamiento     0\n",
       "idioma_original        0\n",
       "presupuesto            0\n",
       "ganancia               0\n",
       "pais                   0\n",
       "dtype: int64"
      ]
     },
     "execution_count": 6,
     "metadata": {},
     "output_type": "execute_result"
    }
   ],
   "source": [
    "#### Buscamos si contiene valores nulos el data set.\n",
    "data.isna().sum()"
   ]
  },
  {
   "cell_type": "markdown",
   "id": "f4ef43fd",
   "metadata": {},
   "source": [
    "* Podemos ver que de las 10177 películas, No tenemos datos sobre el genero en 85 películas y el reparto en otras 56. "
   ]
  },
  {
   "cell_type": "code",
   "execution_count": 7,
   "id": "f4d61cd3",
   "metadata": {},
   "outputs": [],
   "source": [
    "#### DUMIFICAREMOS TODAS LAS VARIABLES QUE NO SEAN NUMERICAS.\n",
    "\n",
    "fecha_dummy = pd.get_dummies(data[\"fecha_lanzamiento\"])\n",
    "genero_dummy = pd.get_dummies(data[\"genero\"])\n",
    "idioma_dummy = pd.get_dummies(data[\"idioma_original\"])\n",
    "pais_dummy = pd.get_dummies(data[\"pais\"])"
   ]
  },
  {
   "cell_type": "markdown",
   "id": "84729615",
   "metadata": {},
   "source": [
    "**No dumificamos las variables \"vision general y reparto\" por que nos crearia 10177 columnas (es decir que todos tienen un reparto diferentes y vision general ESCRITA diferente) aun que sean las mas importantes para poder predecir que tan buena es una pelicula o no**\n",
    "\n",
    "-----"
   ]
  },
  {
   "cell_type": "code",
   "execution_count": 8,
   "id": "a0f39143",
   "metadata": {},
   "outputs": [
    {
     "data": {
      "text/plain": [
       "array(['nombre', 'fecha_lanzamiento', 'opiniones_usuarios', 'genero',\n",
       "       'vision_general', 'reparto', 'titulo_original',\n",
       "       'estado_lanzamiento', 'idioma_original', 'presupuesto', 'ganancia',\n",
       "       'pais'], dtype=object)"
      ]
     },
     "execution_count": 8,
     "metadata": {},
     "output_type": "execute_result"
    }
   ],
   "source": [
    "data.columns.values"
   ]
  },
  {
   "cell_type": "markdown",
   "id": "ea5d2c83",
   "metadata": {},
   "source": [
    "* ### Estos son algunos datos importantes a tener en cuenta, Queria hacer una grafica pero contiene muchas columnas.\n",
    "\n",
    "\n",
    "* **PAISES CON MAS PELÍCULAS CREADAS:**\n",
    "    * AU = 4885 \n",
    "    * US = 2705\n",
    "    * JP = 538\n",
    "    * KR = 361\n",
    "* **CONTEO DE IDIOMAS:**\n",
    "    * Ingles = 7417\n",
    "    * Japones = 714\n",
    "    * Español = 397\n",
    "    * Koreano = 388 \n",
    "----\n",
    "---\n",
    "\n",
    "* # Analísis sobre los generos mas importantes o repetidos en dichas peliculas.\n",
    "# GRAFICA"
   ]
  },
  {
   "cell_type": "code",
   "execution_count": 9,
   "id": "eea5b54b",
   "metadata": {},
   "outputs": [],
   "source": [
    "suma_generos = genero_dummy.iloc[:,15:].sum()\n",
    "top_15_generos = suma_generos.nlargest(15)"
   ]
  },
  {
   "cell_type": "code",
   "execution_count": 10,
   "id": "05fd6211",
   "metadata": {},
   "outputs": [
    {
     "data": {
      "image/png": "[encoded data removed]",
      "text/plain": [
       "<Figure size 1000x600 with 1 Axes>"
      ]
     },
     "metadata": {},
     "output_type": "display_data"
    }
   ],
   "source": [
    "plt.figure(figsize=(10, 6))\n",
    "top_15_generos.plot(kind='bar')\n",
    "plt.xlabel('Género')\n",
    "plt.ylabel('Número de películas')\n",
    "plt.title('Distribución de películas por género (Top 15)')\n",
    "plt.xticks(rotation=85)\n",
    "plt.show()"
   ]
  },
  {
   "cell_type": "code",
   "execution_count": 11,
   "id": "2627fae4",
   "metadata": {},
   "outputs": [],
   "source": [
    "import seaborn as sns"
   ]
  },
  {
   "cell_type": "code",
   "execution_count": 12,
   "id": "6c2b880a",
   "metadata": {},
   "outputs": [
    {
     "name": "stderr",
     "output_type": "stream",
     "text": [
      "C:\\Users\\Acer\\AppData\\Local\\Temp\\ipykernel_13524\\1785325799.py:1: FutureWarning: The default value of numeric_only in DataFrame.corr is deprecated. In a future version, it will default to False. Select only valid columns or specify the value of numeric_only to silence this warning.\n",
      "  correlacion= data.corr()\n"
     ]
    },
    {
     "data": {
      "image/png": "[encoded data removed]",
      "text/plain": [
       "<Figure size 900x900 with 2 Axes>"
      ]
     },
     "metadata": {},
     "output_type": "display_data"
    }
   ],
   "source": [
    "correlacion= data.corr()\n",
    "plt.figure(figsize=(9,9))\n",
    "sns.heatmap(correlacion , annot=True , fmt ='.2f',\n",
    "            cmap=plt.cm.coolwarm_r)\n",
    "plt.xticks(rotation=23)\n",
    "plt.show()"
   ]
  },
  {
   "cell_type": "markdown",
   "id": "f456c5d0",
   "metadata": {},
   "source": [
    "* # La correlación que tienen positiva mas alta son:\n",
    "    * ### GANANCIA Y PRESUPUESTO = 0.67 \n",
    "    * ### Luego PRESUPUESTO Y GANANCIA = 0.24\n",
    "    * ### AÑO LANZAMIENTO Y GANANCIA = 0.15 \n",
    "----"
   ]
  },
  {
   "cell_type": "code",
   "execution_count": 13,
   "id": "854c81c1",
   "metadata": {},
   "outputs": [],
   "source": [
    "data[\"fecha_lanzamiento\"] = pd.to_datetime(data[\"fecha_lanzamiento\"])"
   ]
  },
  {
   "cell_type": "code",
   "execution_count": 14,
   "id": "f57b77f4",
   "metadata": {},
   "outputs": [],
   "source": [
    "data[\"año_lanzamiento\"] = data[\"fecha_lanzamiento\"].dt.year"
   ]
  },
  {
   "cell_type": "code",
   "execution_count": 15,
   "id": "afc87b32",
   "metadata": {},
   "outputs": [],
   "source": [
    "peliculas_años = data[\"año_lanzamiento\"].value_counts().sort_index()"
   ]
  },
  {
   "cell_type": "code",
   "execution_count": 16,
   "id": "46bab4b5",
   "metadata": {},
   "outputs": [
    {
     "data": {
      "image/png": "[encoded data removed]",
      "text/plain": [
       "<Figure size 1000x600 with 1 Axes>"
      ]
     },
     "metadata": {},
     "output_type": "display_data"
    }
   ],
   "source": [
    "peliculas_años.plot(kind='line', figsize=(10, 6))\n",
    "plt.xlabel('Año')\n",
    "plt.ylabel('Número de películas')\n",
    "plt.title('Tendencia de lanzamiento de películas')\n",
    "plt.show()"
   ]
  },
  {
   "cell_type": "markdown",
   "id": "83b04c93",
   "metadata": {},
   "source": [
    "* #### Este es un gráfico de líneas que muestra cómo ha evolucionado el número de películas lanzadas a lo largo de los años. Segun el conjunto de datos sobre peliculas de IMDB.\n",
    "\n",
    "-----------"
   ]
  },
  {
   "cell_type": "markdown",
   "id": "7b92241f",
   "metadata": {},
   "source": [
    "\n",
    "-----------------------------------------------------\n",
    "-\n",
    "# PREDICCIÓN - OPINIONES DE LOS USUARIOS \n",
    "   * ### Predecir que opinion tendrian los usuarios si la película tiene en especifico un idioma, país origen, genero, presupuesto y fecha de lanzamiento (tambien entraria la ganancia, que es la variable a predecir en otro modelo que haremos. pero eso ya se sabria si es para plataforma de streaming o también para ver que ganancia tendria una pelicula a futuro)."
   ]
  },
  {
   "cell_type": "markdown",
   "id": "f9796181",
   "metadata": {},
   "source": [
    "---\n",
    "\n",
    "* # REGRESIÓN LINEAL SOLO VARIABLES NUMERICAS (opiniones de usuarios sobre las películas )."
   ]
  },
  {
   "cell_type": "code",
   "execution_count": 19,
   "id": "a59b0177",
   "metadata": {},
   "outputs": [],
   "source": [
    "from sklearn.linear_model import LinearRegression"
   ]
  },
  {
   "cell_type": "code",
   "execution_count": 237,
   "id": "28702bef",
   "metadata": {},
   "outputs": [],
   "source": [
    "x = data[[\"ganancia\",\"presupuesto\",\"año_lanzamiento\"]]\n",
    "y = data[[\"opiniones_usuarios\"]]"
   ]
  },
  {
   "cell_type": "code",
   "execution_count": 21,
   "id": "4f3da786",
   "metadata": {},
   "outputs": [
    {
     "data": {
      "text/html": [
       "<style>#sk-container-id-1 {color: black;background-color: white;}#sk-container-id-1 pre{padding: 0;}#sk-container-id-1 div.sk-toggleable {background-color: white;}#sk-container-id-1 label.sk-toggleable__label {cursor: pointer;display: block;width: 100%;margin-bottom: 0;padding: 0.3em;box-sizing: border-box;text-align: center;}#sk-container-id-1 label.sk-toggleable__label-arrow:before {content: \"▸\";float: left;margin-right: 0.25em;color: #696969;}#sk-container-id-1 label.sk-toggleable__label-arrow:hover:before {color: black;}#sk-container-id-1 div.sk-estimator:hover label.sk-toggleable__label-arrow:before {color: black;}#sk-container-id-1 div.sk-toggleable__content {max-height: 0;max-width: 0;overflow: hidden;text-align: left;background-color: #f0f8ff;}#sk-container-id-1 div.sk-toggleable__content pre {margin: 0.2em;color: black;border-radius: 0.25em;background-color: #f0f8ff;}#sk-container-id-1 input.sk-toggleable__control:checked~div.sk-toggleable__content {max-height: 200px;max-width: 100%;overflow: auto;}#sk-container-id-1 input.sk-toggleable__control:checked~label.sk-toggleable__label-arrow:before {content: \"▾\";}#sk-container-id-1 div.sk-estimator input.sk-toggleable__control:checked~label.sk-toggleable__label {background-color: #d4ebff;}#sk-container-id-1 div.sk-label input.sk-toggleable__control:checked~label.sk-toggleable__label {background-color: #d4ebff;}#sk-container-id-1 input.sk-hidden--visually {border: 0;clip: rect(1px 1px 1px 1px);clip: rect(1px, 1px, 1px, 1px);height: 1px;margin: -1px;overflow: hidden;padding: 0;position: absolute;width: 1px;}#sk-container-id-1 div.sk-estimator {font-family: monospace;background-color: #f0f8ff;border: 1px dotted black;border-radius: 0.25em;box-sizing: border-box;margin-bottom: 0.5em;}#sk-container-id-1 div.sk-estimator:hover {background-color: #d4ebff;}#sk-container-id-1 div.sk-parallel-item::after {content: \"\";width: 100%;border-bottom: 1px solid gray;flex-grow: 1;}#sk-container-id-1 div.sk-label:hover label.sk-toggleable__label {background-color: #d4ebff;}#sk-container-id-1 div.sk-serial::before {content: \"\";position: absolute;border-left: 1px solid gray;box-sizing: border-box;top: 0;bottom: 0;left: 50%;z-index: 0;}#sk-container-id-1 div.sk-serial {display: flex;flex-direction: column;align-items: center;background-color: white;padding-right: 0.2em;padding-left: 0.2em;position: relative;}#sk-container-id-1 div.sk-item {position: relative;z-index: 1;}#sk-container-id-1 div.sk-parallel {display: flex;align-items: stretch;justify-content: center;background-color: white;position: relative;}#sk-container-id-1 div.sk-item::before, #sk-container-id-1 div.sk-parallel-item::before {content: \"\";position: absolute;border-left: 1px solid gray;box-sizing: border-box;top: 0;bottom: 0;left: 50%;z-index: -1;}#sk-container-id-1 div.sk-parallel-item {display: flex;flex-direction: column;z-index: 1;position: relative;background-color: white;}#sk-container-id-1 div.sk-parallel-item:first-child::after {align-self: flex-end;width: 50%;}#sk-container-id-1 div.sk-parallel-item:last-child::after {align-self: flex-start;width: 50%;}#sk-container-id-1 div.sk-parallel-item:only-child::after {width: 0;}#sk-container-id-1 div.sk-dashed-wrapped {border: 1px dashed gray;margin: 0 0.4em 0.5em 0.4em;box-sizing: border-box;padding-bottom: 0.4em;background-color: white;}#sk-container-id-1 div.sk-label label {font-family: monospace;font-weight: bold;display: inline-block;line-height: 1.2em;}#sk-container-id-1 div.sk-label-container {text-align: center;}#sk-container-id-1 div.sk-container {/* jupyter's `normalize.less` sets `[hidden] { display: none; }` but bootstrap.min.css set `[hidden] { display: none !important; }` so we also need the `!important` here to be able to override the default hidden behavior on the sphinx rendered scikit-learn.org. See: https://github.com/scikit-learn/scikit-learn/issues/21755 */display: inline-block !important;position: relative;}#sk-container-id-1 div.sk-text-repr-fallback {display: none;}</style><div id=\"sk-container-id-1\" class=\"sk-top-container\"><div class=\"sk-text-repr-fallback\"><pre>LinearRegression()</pre><b>In a Jupyter environment, please rerun this cell to show the HTML representation or trust the notebook. <br />On GitHub, the HTML representation is unable to render, please try loading this page with nbviewer.org.</b></div><div class=\"sk-container\" hidden><div class=\"sk-item\"><div class=\"sk-estimator sk-toggleable\"><input class=\"sk-toggleable__control sk-hidden--visually\" id=\"sk-estimator-id-1\" type=\"checkbox\" checked><label for=\"sk-estimator-id-1\" class=\"sk-toggleable__label sk-toggleable__label-arrow\">LinearRegression</label><div class=\"sk-toggleable__content\"><pre>LinearRegression()</pre></div></div></div></div></div>"
      ],
      "text/plain": [
       "LinearRegression()"
      ]
     },
     "execution_count": 21,
     "metadata": {},
     "output_type": "execute_result"
    }
   ],
   "source": [
    "lm1 = LinearRegression()\n",
    "lm1.fit(X,y)"
   ]
  },
  {
   "cell_type": "code",
   "execution_count": 24,
   "id": "c4b2436d",
   "metadata": {},
   "outputs": [
    {
     "data": {
      "text/plain": [
       "(array([224.92418378]),\n",
       " array([[ 2.26966403e-08, -1.25221534e-07, -7.92092598e-02]]))"
      ]
     },
     "execution_count": 24,
     "metadata": {},
     "output_type": "execute_result"
    }
   ],
   "source": [
    "lm1.intercept_ , lm1.coef_"
   ]
  },
  {
   "cell_type": "code",
   "execution_count": 25,
   "id": "a4df2a25",
   "metadata": {},
   "outputs": [
    {
     "data": {
      "text/plain": [
       "18.231192585688127"
      ]
     },
     "execution_count": 25,
     "metadata": {},
     "output_type": "execute_result"
    }
   ],
   "source": [
    "lm1.score(X,y)*100"
   ]
  },
  {
   "cell_type": "markdown",
   "id": "199b1249",
   "metadata": {},
   "source": [
    "* ## EN LA REGRESIÓN LINEAL SOBRE LAS OPINIONES DE USUARIOS Obtenemos un resultado del %18.23 (Es un resultado muy bajo obviamente, seguimos tentiendo las pocas variables numericas por que son las unicas variables numericas que tenemos sin dumificar las demas).\n",
    "---"
   ]
  },
  {
   "cell_type": "markdown",
   "id": "543104bc",
   "metadata": {},
   "source": [
    "---\n",
    "\n",
    "* # REGRESIÓN LINEAL TODAS LAS VARIABLES (opiniones de usuarios sobre las películas)."
   ]
  },
  {
   "cell_type": "code",
   "execution_count": 26,
   "id": "1615a6ca",
   "metadata": {},
   "outputs": [
    {
     "data": {
      "text/html": [
       "<div>\n",
       "<style scoped>\n",
       "    .dataframe tbody tr th:only-of-type {\n",
       "        vertical-align: middle;\n",
       "    }\n",
       "\n",
       "    .dataframe tbody tr th {\n",
       "        vertical-align: top;\n",
       "    }\n",
       "\n",
       "    .dataframe thead th {\n",
       "        text-align: right;\n",
       "    }\n",
       "</style>\n",
       "<table border=\"1\" class=\"dataframe\">\n",
       "  <thead>\n",
       "    <tr style=\"text-align: right;\">\n",
       "      <th></th>\n",
       "      <th>ganancia</th>\n",
       "      <th>presupuesto</th>\n",
       "      <th>año_lanzamiento</th>\n",
       "      <th>Action</th>\n",
       "      <th>Action, Adventure</th>\n",
       "      <th>Action, Adventure, Animation</th>\n",
       "      <th>Action, Adventure, Animation, Comedy</th>\n",
       "      <th>Action, Adventure, Animation, Comedy, Family</th>\n",
       "      <th>Action, Adventure, Animation, Comedy, Family, Science Fiction</th>\n",
       "      <th>Action, Adventure, Animation, Comedy, Romance, Family</th>\n",
       "      <th>...</th>\n",
       "      <th>SU</th>\n",
       "      <th>TH</th>\n",
       "      <th>TR</th>\n",
       "      <th>TW</th>\n",
       "      <th>UA</th>\n",
       "      <th>US</th>\n",
       "      <th>UY</th>\n",
       "      <th>VN</th>\n",
       "      <th>XC</th>\n",
       "      <th>ZA</th>\n",
       "    </tr>\n",
       "  </thead>\n",
       "  <tbody>\n",
       "    <tr>\n",
       "      <th>0</th>\n",
       "      <td>2.716167e+08</td>\n",
       "      <td>75000000.0</td>\n",
       "      <td>2023</td>\n",
       "      <td>0</td>\n",
       "      <td>0</td>\n",
       "      <td>0</td>\n",
       "      <td>0</td>\n",
       "      <td>0</td>\n",
       "      <td>0</td>\n",
       "      <td>0</td>\n",
       "      <td>...</td>\n",
       "      <td>0</td>\n",
       "      <td>0</td>\n",
       "      <td>0</td>\n",
       "      <td>0</td>\n",
       "      <td>0</td>\n",
       "      <td>0</td>\n",
       "      <td>0</td>\n",
       "      <td>0</td>\n",
       "      <td>0</td>\n",
       "      <td>0</td>\n",
       "    </tr>\n",
       "    <tr>\n",
       "      <th>1</th>\n",
       "      <td>2.316795e+09</td>\n",
       "      <td>460000000.0</td>\n",
       "      <td>2022</td>\n",
       "      <td>0</td>\n",
       "      <td>0</td>\n",
       "      <td>0</td>\n",
       "      <td>0</td>\n",
       "      <td>0</td>\n",
       "      <td>0</td>\n",
       "      <td>0</td>\n",
       "      <td>...</td>\n",
       "      <td>0</td>\n",
       "      <td>0</td>\n",
       "      <td>0</td>\n",
       "      <td>0</td>\n",
       "      <td>0</td>\n",
       "      <td>0</td>\n",
       "      <td>0</td>\n",
       "      <td>0</td>\n",
       "      <td>0</td>\n",
       "      <td>0</td>\n",
       "    </tr>\n",
       "    <tr>\n",
       "      <th>2</th>\n",
       "      <td>7.244590e+08</td>\n",
       "      <td>100000000.0</td>\n",
       "      <td>2023</td>\n",
       "      <td>0</td>\n",
       "      <td>0</td>\n",
       "      <td>0</td>\n",
       "      <td>0</td>\n",
       "      <td>0</td>\n",
       "      <td>0</td>\n",
       "      <td>0</td>\n",
       "      <td>...</td>\n",
       "      <td>0</td>\n",
       "      <td>0</td>\n",
       "      <td>0</td>\n",
       "      <td>0</td>\n",
       "      <td>0</td>\n",
       "      <td>0</td>\n",
       "      <td>0</td>\n",
       "      <td>0</td>\n",
       "      <td>0</td>\n",
       "      <td>0</td>\n",
       "    </tr>\n",
       "    <tr>\n",
       "      <th>3</th>\n",
       "      <td>3.420000e+07</td>\n",
       "      <td>12300000.0</td>\n",
       "      <td>2023</td>\n",
       "      <td>0</td>\n",
       "      <td>0</td>\n",
       "      <td>0</td>\n",
       "      <td>0</td>\n",
       "      <td>0</td>\n",
       "      <td>0</td>\n",
       "      <td>0</td>\n",
       "      <td>...</td>\n",
       "      <td>0</td>\n",
       "      <td>0</td>\n",
       "      <td>0</td>\n",
       "      <td>0</td>\n",
       "      <td>0</td>\n",
       "      <td>0</td>\n",
       "      <td>0</td>\n",
       "      <td>0</td>\n",
       "      <td>0</td>\n",
       "      <td>0</td>\n",
       "    </tr>\n",
       "    <tr>\n",
       "      <th>4</th>\n",
       "      <td>3.409420e+08</td>\n",
       "      <td>77000000.0</td>\n",
       "      <td>2023</td>\n",
       "      <td>1</td>\n",
       "      <td>0</td>\n",
       "      <td>0</td>\n",
       "      <td>0</td>\n",
       "      <td>0</td>\n",
       "      <td>0</td>\n",
       "      <td>0</td>\n",
       "      <td>...</td>\n",
       "      <td>0</td>\n",
       "      <td>0</td>\n",
       "      <td>0</td>\n",
       "      <td>0</td>\n",
       "      <td>0</td>\n",
       "      <td>1</td>\n",
       "      <td>0</td>\n",
       "      <td>0</td>\n",
       "      <td>0</td>\n",
       "      <td>0</td>\n",
       "    </tr>\n",
       "  </tbody>\n",
       "</table>\n",
       "<p>5 rows × 2420 columns</p>\n",
       "</div>"
      ],
      "text/plain": [
       "       ganancia  presupuesto  año_lanzamiento  Action  Action, Adventure  \\\n",
       "0  2.716167e+08   75000000.0             2023       0                  0   \n",
       "1  2.316795e+09  460000000.0             2022       0                  0   \n",
       "2  7.244590e+08  100000000.0             2023       0                  0   \n",
       "3  3.420000e+07   12300000.0             2023       0                  0   \n",
       "4  3.409420e+08   77000000.0             2023       1                  0   \n",
       "\n",
       "   Action, Adventure, Animation  Action, Adventure, Animation, Comedy  \\\n",
       "0                             0                                     0   \n",
       "1                             0                                     0   \n",
       "2                             0                                     0   \n",
       "3                             0                                     0   \n",
       "4                             0                                     0   \n",
       "\n",
       "   Action, Adventure, Animation, Comedy, Family  \\\n",
       "0                                             0   \n",
       "1                                             0   \n",
       "2                                             0   \n",
       "3                                             0   \n",
       "4                                             0   \n",
       "\n",
       "   Action, Adventure, Animation, Comedy, Family, Science Fiction  \\\n",
       "0                                                  0               \n",
       "1                                                  0               \n",
       "2                                                  0               \n",
       "3                                                  0               \n",
       "4                                                  0               \n",
       "\n",
       "   Action, Adventure, Animation, Comedy, Romance, Family  ...  SU  TH  TR  TW  \\\n",
       "0                                                  0      ...   0   0   0   0   \n",
       "1                                                  0      ...   0   0   0   0   \n",
       "2                                                  0      ...   0   0   0   0   \n",
       "3                                                  0      ...   0   0   0   0   \n",
       "4                                                  0      ...   0   0   0   0   \n",
       "\n",
       "   UA  US  UY  VN  XC  ZA  \n",
       "0   0   0   0   0   0   0  \n",
       "1   0   0   0   0   0   0  \n",
       "2   0   0   0   0   0   0  \n",
       "3   0   0   0   0   0   0  \n",
       "4   0   1   0   0   0   0  \n",
       "\n",
       "[5 rows x 2420 columns]"
      ]
     },
     "execution_count": 26,
     "metadata": {},
     "output_type": "execute_result"
    }
   ],
   "source": [
    "#### Concatenamos las variables dumificadas con las numericas que ya teniamos\n",
    "data_pred_opinion = pd.concat([X,genero_dummy,idioma_dummy,pais_dummy], axis=1)\n",
    "data_pred_opinion.head()"
   ]
  },
  {
   "cell_type": "markdown",
   "id": "5272ecc6",
   "metadata": {},
   "source": [
    "**Observacíon**\n",
    "* Tenemos 2420 columnas despues de dumificarlas.\n",
    "----"
   ]
  },
  {
   "cell_type": "code",
   "execution_count": 286,
   "id": "4950bae7",
   "metadata": {},
   "outputs": [
    {
     "data": {
      "text/html": [
       "<style>#sk-container-id-6 {color: black;background-color: white;}#sk-container-id-6 pre{padding: 0;}#sk-container-id-6 div.sk-toggleable {background-color: white;}#sk-container-id-6 label.sk-toggleable__label {cursor: pointer;display: block;width: 100%;margin-bottom: 0;padding: 0.3em;box-sizing: border-box;text-align: center;}#sk-container-id-6 label.sk-toggleable__label-arrow:before {content: \"▸\";float: left;margin-right: 0.25em;color: #696969;}#sk-container-id-6 label.sk-toggleable__label-arrow:hover:before {color: black;}#sk-container-id-6 div.sk-estimator:hover label.sk-toggleable__label-arrow:before {color: black;}#sk-container-id-6 div.sk-toggleable__content {max-height: 0;max-width: 0;overflow: hidden;text-align: left;background-color: #f0f8ff;}#sk-container-id-6 div.sk-toggleable__content pre {margin: 0.2em;color: black;border-radius: 0.25em;background-color: #f0f8ff;}#sk-container-id-6 input.sk-toggleable__control:checked~div.sk-toggleable__content {max-height: 200px;max-width: 100%;overflow: auto;}#sk-container-id-6 input.sk-toggleable__control:checked~label.sk-toggleable__label-arrow:before {content: \"▾\";}#sk-container-id-6 div.sk-estimator input.sk-toggleable__control:checked~label.sk-toggleable__label {background-color: #d4ebff;}#sk-container-id-6 div.sk-label input.sk-toggleable__control:checked~label.sk-toggleable__label {background-color: #d4ebff;}#sk-container-id-6 input.sk-hidden--visually {border: 0;clip: rect(1px 1px 1px 1px);clip: rect(1px, 1px, 1px, 1px);height: 1px;margin: -1px;overflow: hidden;padding: 0;position: absolute;width: 1px;}#sk-container-id-6 div.sk-estimator {font-family: monospace;background-color: #f0f8ff;border: 1px dotted black;border-radius: 0.25em;box-sizing: border-box;margin-bottom: 0.5em;}#sk-container-id-6 div.sk-estimator:hover {background-color: #d4ebff;}#sk-container-id-6 div.sk-parallel-item::after {content: \"\";width: 100%;border-bottom: 1px solid gray;flex-grow: 1;}#sk-container-id-6 div.sk-label:hover label.sk-toggleable__label {background-color: #d4ebff;}#sk-container-id-6 div.sk-serial::before {content: \"\";position: absolute;border-left: 1px solid gray;box-sizing: border-box;top: 0;bottom: 0;left: 50%;z-index: 0;}#sk-container-id-6 div.sk-serial {display: flex;flex-direction: column;align-items: center;background-color: white;padding-right: 0.2em;padding-left: 0.2em;position: relative;}#sk-container-id-6 div.sk-item {position: relative;z-index: 1;}#sk-container-id-6 div.sk-parallel {display: flex;align-items: stretch;justify-content: center;background-color: white;position: relative;}#sk-container-id-6 div.sk-item::before, #sk-container-id-6 div.sk-parallel-item::before {content: \"\";position: absolute;border-left: 1px solid gray;box-sizing: border-box;top: 0;bottom: 0;left: 50%;z-index: -1;}#sk-container-id-6 div.sk-parallel-item {display: flex;flex-direction: column;z-index: 1;position: relative;background-color: white;}#sk-container-id-6 div.sk-parallel-item:first-child::after {align-self: flex-end;width: 50%;}#sk-container-id-6 div.sk-parallel-item:last-child::after {align-self: flex-start;width: 50%;}#sk-container-id-6 div.sk-parallel-item:only-child::after {width: 0;}#sk-container-id-6 div.sk-dashed-wrapped {border: 1px dashed gray;margin: 0 0.4em 0.5em 0.4em;box-sizing: border-box;padding-bottom: 0.4em;background-color: white;}#sk-container-id-6 div.sk-label label {font-family: monospace;font-weight: bold;display: inline-block;line-height: 1.2em;}#sk-container-id-6 div.sk-label-container {text-align: center;}#sk-container-id-6 div.sk-container {/* jupyter's `normalize.less` sets `[hidden] { display: none; }` but bootstrap.min.css set `[hidden] { display: none !important; }` so we also need the `!important` here to be able to override the default hidden behavior on the sphinx rendered scikit-learn.org. See: https://github.com/scikit-learn/scikit-learn/issues/21755 */display: inline-block !important;position: relative;}#sk-container-id-6 div.sk-text-repr-fallback {display: none;}</style><div id=\"sk-container-id-6\" class=\"sk-top-container\"><div class=\"sk-text-repr-fallback\"><pre>LinearRegression()</pre><b>In a Jupyter environment, please rerun this cell to show the HTML representation or trust the notebook. <br />On GitHub, the HTML representation is unable to render, please try loading this page with nbviewer.org.</b></div><div class=\"sk-container\" hidden><div class=\"sk-item\"><div class=\"sk-estimator sk-toggleable\"><input class=\"sk-toggleable__control sk-hidden--visually\" id=\"sk-estimator-id-6\" type=\"checkbox\" checked><label for=\"sk-estimator-id-6\" class=\"sk-toggleable__label sk-toggleable__label-arrow\">LinearRegression</label><div class=\"sk-toggleable__content\"><pre>LinearRegression()</pre></div></div></div></div></div>"
      ],
      "text/plain": [
       "LinearRegression()"
      ]
     },
     "execution_count": 286,
     "metadata": {},
     "output_type": "execute_result"
    }
   ],
   "source": [
    "lm2 = LinearRegression()\n",
    "lm2.fit(data_pred_opinion,y)"
   ]
  },
  {
   "cell_type": "code",
   "execution_count": 287,
   "id": "c2368d14",
   "metadata": {},
   "outputs": [
    {
     "data": {
      "text/plain": [
       "0.513004953013115"
      ]
     },
     "execution_count": 287,
     "metadata": {},
     "output_type": "execute_result"
    }
   ],
   "source": [
    "lm2.score(data_pred_opinion,y)"
   ]
  },
  {
   "cell_type": "markdown",
   "id": "a6b86aec",
   "metadata": {},
   "source": [
    "* ## Obtenemos un resultado del %51.30 con la regresion lineal y todas las variables dumificadas. Evidentemente tiene una mejoria con el modelo anterior que solo contenia las variables numericas que era del %18.23\n",
    "----"
   ]
  },
  {
   "cell_type": "markdown",
   "id": "cc205e88",
   "metadata": {},
   "source": [
    "---\n",
    "* # REGRESIÓN LINEAL (con datos de entrenamiento y test)"
   ]
  },
  {
   "cell_type": "code",
   "execution_count": 39,
   "id": "a2f6eba4",
   "metadata": {},
   "outputs": [],
   "source": [
    "from sklearn.model_selection import train_test_split\n",
    "from sklearn.linear_model import LogisticRegression\n",
    "from sklearn.metrics import accuracy_score"
   ]
  },
  {
   "cell_type": "code",
   "execution_count": 35,
   "id": "988319a3",
   "metadata": {},
   "outputs": [],
   "source": [
    "X_train, X_test, y_train, y_test = train_test_split(data_pred_opinion, y, test_size=0.3, random_state=42)"
   ]
  },
  {
   "cell_type": "code",
   "execution_count": 36,
   "id": "cce7093f",
   "metadata": {},
   "outputs": [
    {
     "name": "stderr",
     "output_type": "stream",
     "text": [
      "C:\\Users\\Acer\\anaconda3\\envs\\Trabajar-con-tensorflow\\lib\\site-packages\\sklearn\\utils\\validation.py:1111: DataConversionWarning: A column-vector y was passed when a 1d array was expected. Please change the shape of y to (n_samples, ), for example using ravel().\n",
      "  y = column_or_1d(y, warn=True)\n",
      "C:\\Users\\Acer\\anaconda3\\envs\\Trabajar-con-tensorflow\\lib\\site-packages\\sklearn\\linear_model\\_logistic.py:444: ConvergenceWarning: lbfgs failed to converge (status=1):\n",
      "STOP: TOTAL NO. of ITERATIONS REACHED LIMIT.\n",
      "\n",
      "Increase the number of iterations (max_iter) or scale the data as shown in:\n",
      "    https://scikit-learn.org/stable/modules/preprocessing.html\n",
      "Please also refer to the documentation for alternative solver options:\n",
      "    https://scikit-learn.org/stable/modules/linear_model.html#logistic-regression\n",
      "  n_iter_i = _check_optimize_result(\n"
     ]
    },
    {
     "data": {
      "text/html": [
       "<style>#sk-container-id-3 {color: black;background-color: white;}#sk-container-id-3 pre{padding: 0;}#sk-container-id-3 div.sk-toggleable {background-color: white;}#sk-container-id-3 label.sk-toggleable__label {cursor: pointer;display: block;width: 100%;margin-bottom: 0;padding: 0.3em;box-sizing: border-box;text-align: center;}#sk-container-id-3 label.sk-toggleable__label-arrow:before {content: \"▸\";float: left;margin-right: 0.25em;color: #696969;}#sk-container-id-3 label.sk-toggleable__label-arrow:hover:before {color: black;}#sk-container-id-3 div.sk-estimator:hover label.sk-toggleable__label-arrow:before {color: black;}#sk-container-id-3 div.sk-toggleable__content {max-height: 0;max-width: 0;overflow: hidden;text-align: left;background-color: #f0f8ff;}#sk-container-id-3 div.sk-toggleable__content pre {margin: 0.2em;color: black;border-radius: 0.25em;background-color: #f0f8ff;}#sk-container-id-3 input.sk-toggleable__control:checked~div.sk-toggleable__content {max-height: 200px;max-width: 100%;overflow: auto;}#sk-container-id-3 input.sk-toggleable__control:checked~label.sk-toggleable__label-arrow:before {content: \"▾\";}#sk-container-id-3 div.sk-estimator input.sk-toggleable__control:checked~label.sk-toggleable__label {background-color: #d4ebff;}#sk-container-id-3 div.sk-label input.sk-toggleable__control:checked~label.sk-toggleable__label {background-color: #d4ebff;}#sk-container-id-3 input.sk-hidden--visually {border: 0;clip: rect(1px 1px 1px 1px);clip: rect(1px, 1px, 1px, 1px);height: 1px;margin: -1px;overflow: hidden;padding: 0;position: absolute;width: 1px;}#sk-container-id-3 div.sk-estimator {font-family: monospace;background-color: #f0f8ff;border: 1px dotted black;border-radius: 0.25em;box-sizing: border-box;margin-bottom: 0.5em;}#sk-container-id-3 div.sk-estimator:hover {background-color: #d4ebff;}#sk-container-id-3 div.sk-parallel-item::after {content: \"\";width: 100%;border-bottom: 1px solid gray;flex-grow: 1;}#sk-container-id-3 div.sk-label:hover label.sk-toggleable__label {background-color: #d4ebff;}#sk-container-id-3 div.sk-serial::before {content: \"\";position: absolute;border-left: 1px solid gray;box-sizing: border-box;top: 0;bottom: 0;left: 50%;z-index: 0;}#sk-container-id-3 div.sk-serial {display: flex;flex-direction: column;align-items: center;background-color: white;padding-right: 0.2em;padding-left: 0.2em;position: relative;}#sk-container-id-3 div.sk-item {position: relative;z-index: 1;}#sk-container-id-3 div.sk-parallel {display: flex;align-items: stretch;justify-content: center;background-color: white;position: relative;}#sk-container-id-3 div.sk-item::before, #sk-container-id-3 div.sk-parallel-item::before {content: \"\";position: absolute;border-left: 1px solid gray;box-sizing: border-box;top: 0;bottom: 0;left: 50%;z-index: -1;}#sk-container-id-3 div.sk-parallel-item {display: flex;flex-direction: column;z-index: 1;position: relative;background-color: white;}#sk-container-id-3 div.sk-parallel-item:first-child::after {align-self: flex-end;width: 50%;}#sk-container-id-3 div.sk-parallel-item:last-child::after {align-self: flex-start;width: 50%;}#sk-container-id-3 div.sk-parallel-item:only-child::after {width: 0;}#sk-container-id-3 div.sk-dashed-wrapped {border: 1px dashed gray;margin: 0 0.4em 0.5em 0.4em;box-sizing: border-box;padding-bottom: 0.4em;background-color: white;}#sk-container-id-3 div.sk-label label {font-family: monospace;font-weight: bold;display: inline-block;line-height: 1.2em;}#sk-container-id-3 div.sk-label-container {text-align: center;}#sk-container-id-3 div.sk-container {/* jupyter's `normalize.less` sets `[hidden] { display: none; }` but bootstrap.min.css set `[hidden] { display: none !important; }` so we also need the `!important` here to be able to override the default hidden behavior on the sphinx rendered scikit-learn.org. See: https://github.com/scikit-learn/scikit-learn/issues/21755 */display: inline-block !important;position: relative;}#sk-container-id-3 div.sk-text-repr-fallback {display: none;}</style><div id=\"sk-container-id-3\" class=\"sk-top-container\"><div class=\"sk-text-repr-fallback\"><pre>LogisticRegression()</pre><b>In a Jupyter environment, please rerun this cell to show the HTML representation or trust the notebook. <br />On GitHub, the HTML representation is unable to render, please try loading this page with nbviewer.org.</b></div><div class=\"sk-container\" hidden><div class=\"sk-item\"><div class=\"sk-estimator sk-toggleable\"><input class=\"sk-toggleable__control sk-hidden--visually\" id=\"sk-estimator-id-3\" type=\"checkbox\" checked><label for=\"sk-estimator-id-3\" class=\"sk-toggleable__label sk-toggleable__label-arrow\">LogisticRegression</label><div class=\"sk-toggleable__content\"><pre>LogisticRegression()</pre></div></div></div></div></div>"
      ],
      "text/plain": [
       "LogisticRegression()"
      ]
     },
     "execution_count": 36,
     "metadata": {},
     "output_type": "execute_result"
    }
   ],
   "source": [
    "model = LogisticRegression()\n",
    "model.fit(X_train, y_train)"
   ]
  },
  {
   "cell_type": "code",
   "execution_count": 40,
   "id": "594bf662",
   "metadata": {},
   "outputs": [
    {
     "name": "stdout",
     "output_type": "stream",
     "text": [
      "Precisión del modelo: 4.518664047151278\n"
     ]
    }
   ],
   "source": [
    "y_pred = model.predict(X_test)\n",
    "print(\"Precisión del modelo:\", accuracy_score(y_test, y_pred)*100)"
   ]
  },
  {
   "cell_type": "markdown",
   "id": "329a9d74",
   "metadata": {},
   "source": [
    "* ## Modelo muy negativo con los datos de entrenamiento y test, solamente un %4.51 de efectividad sobre el modelo\n",
    "---"
   ]
  },
  {
   "cell_type": "markdown",
   "id": "5fee78cb",
   "metadata": {},
   "source": [
    "----\n",
    "* # RANDOM FOREST - opiniones de los usuarios "
   ]
  },
  {
   "cell_type": "code",
   "execution_count": 41,
   "id": "24f8696b",
   "metadata": {},
   "outputs": [],
   "source": [
    "from sklearn.ensemble import RandomForestRegressor\n",
    "from sklearn.metrics import r2_score , mean_squared_error , mean_absolute_error"
   ]
  },
  {
   "cell_type": "code",
   "execution_count": 42,
   "id": "12fc7b01",
   "metadata": {},
   "outputs": [
    {
     "name": "stderr",
     "output_type": "stream",
     "text": [
      "C:\\Users\\Acer\\AppData\\Local\\Temp\\ipykernel_13524\\1727326830.py:3: DataConversionWarning: A column-vector y was passed when a 1d array was expected. Please change the shape of y to (n_samples,), for example using ravel().\n",
      "  random_forest.fit(X,y)\n"
     ]
    },
    {
     "data": {
      "text/html": [
       "<style>#sk-container-id-4 {color: black;background-color: white;}#sk-container-id-4 pre{padding: 0;}#sk-container-id-4 div.sk-toggleable {background-color: white;}#sk-container-id-4 label.sk-toggleable__label {cursor: pointer;display: block;width: 100%;margin-bottom: 0;padding: 0.3em;box-sizing: border-box;text-align: center;}#sk-container-id-4 label.sk-toggleable__label-arrow:before {content: \"▸\";float: left;margin-right: 0.25em;color: #696969;}#sk-container-id-4 label.sk-toggleable__label-arrow:hover:before {color: black;}#sk-container-id-4 div.sk-estimator:hover label.sk-toggleable__label-arrow:before {color: black;}#sk-container-id-4 div.sk-toggleable__content {max-height: 0;max-width: 0;overflow: hidden;text-align: left;background-color: #f0f8ff;}#sk-container-id-4 div.sk-toggleable__content pre {margin: 0.2em;color: black;border-radius: 0.25em;background-color: #f0f8ff;}#sk-container-id-4 input.sk-toggleable__control:checked~div.sk-toggleable__content {max-height: 200px;max-width: 100%;overflow: auto;}#sk-container-id-4 input.sk-toggleable__control:checked~label.sk-toggleable__label-arrow:before {content: \"▾\";}#sk-container-id-4 div.sk-estimator input.sk-toggleable__control:checked~label.sk-toggleable__label {background-color: #d4ebff;}#sk-container-id-4 div.sk-label input.sk-toggleable__control:checked~label.sk-toggleable__label {background-color: #d4ebff;}#sk-container-id-4 input.sk-hidden--visually {border: 0;clip: rect(1px 1px 1px 1px);clip: rect(1px, 1px, 1px, 1px);height: 1px;margin: -1px;overflow: hidden;padding: 0;position: absolute;width: 1px;}#sk-container-id-4 div.sk-estimator {font-family: monospace;background-color: #f0f8ff;border: 1px dotted black;border-radius: 0.25em;box-sizing: border-box;margin-bottom: 0.5em;}#sk-container-id-4 div.sk-estimator:hover {background-color: #d4ebff;}#sk-container-id-4 div.sk-parallel-item::after {content: \"\";width: 100%;border-bottom: 1px solid gray;flex-grow: 1;}#sk-container-id-4 div.sk-label:hover label.sk-toggleable__label {background-color: #d4ebff;}#sk-container-id-4 div.sk-serial::before {content: \"\";position: absolute;border-left: 1px solid gray;box-sizing: border-box;top: 0;bottom: 0;left: 50%;z-index: 0;}#sk-container-id-4 div.sk-serial {display: flex;flex-direction: column;align-items: center;background-color: white;padding-right: 0.2em;padding-left: 0.2em;position: relative;}#sk-container-id-4 div.sk-item {position: relative;z-index: 1;}#sk-container-id-4 div.sk-parallel {display: flex;align-items: stretch;justify-content: center;background-color: white;position: relative;}#sk-container-id-4 div.sk-item::before, #sk-container-id-4 div.sk-parallel-item::before {content: \"\";position: absolute;border-left: 1px solid gray;box-sizing: border-box;top: 0;bottom: 0;left: 50%;z-index: -1;}#sk-container-id-4 div.sk-parallel-item {display: flex;flex-direction: column;z-index: 1;position: relative;background-color: white;}#sk-container-id-4 div.sk-parallel-item:first-child::after {align-self: flex-end;width: 50%;}#sk-container-id-4 div.sk-parallel-item:last-child::after {align-self: flex-start;width: 50%;}#sk-container-id-4 div.sk-parallel-item:only-child::after {width: 0;}#sk-container-id-4 div.sk-dashed-wrapped {border: 1px dashed gray;margin: 0 0.4em 0.5em 0.4em;box-sizing: border-box;padding-bottom: 0.4em;background-color: white;}#sk-container-id-4 div.sk-label label {font-family: monospace;font-weight: bold;display: inline-block;line-height: 1.2em;}#sk-container-id-4 div.sk-label-container {text-align: center;}#sk-container-id-4 div.sk-container {/* jupyter's `normalize.less` sets `[hidden] { display: none; }` but bootstrap.min.css set `[hidden] { display: none !important; }` so we also need the `!important` here to be able to override the default hidden behavior on the sphinx rendered scikit-learn.org. See: https://github.com/scikit-learn/scikit-learn/issues/21755 */display: inline-block !important;position: relative;}#sk-container-id-4 div.sk-text-repr-fallback {display: none;}</style><div id=\"sk-container-id-4\" class=\"sk-top-container\"><div class=\"sk-text-repr-fallback\"><pre>RandomForestRegressor(max_depth=4, min_samples_leaf=450, min_samples_split=120,\n",
       "                      n_estimators=350, n_jobs=2, oob_score=True,\n",
       "                      random_state=42)</pre><b>In a Jupyter environment, please rerun this cell to show the HTML representation or trust the notebook. <br />On GitHub, the HTML representation is unable to render, please try loading this page with nbviewer.org.</b></div><div class=\"sk-container\" hidden><div class=\"sk-item\"><div class=\"sk-estimator sk-toggleable\"><input class=\"sk-toggleable__control sk-hidden--visually\" id=\"sk-estimator-id-4\" type=\"checkbox\" checked><label for=\"sk-estimator-id-4\" class=\"sk-toggleable__label sk-toggleable__label-arrow\">RandomForestRegressor</label><div class=\"sk-toggleable__content\"><pre>RandomForestRegressor(max_depth=4, min_samples_leaf=450, min_samples_split=120,\n",
       "                      n_estimators=350, n_jobs=2, oob_score=True,\n",
       "                      random_state=42)</pre></div></div></div></div></div>"
      ],
      "text/plain": [
       "RandomForestRegressor(max_depth=4, min_samples_leaf=450, min_samples_split=120,\n",
       "                      n_estimators=350, n_jobs=2, oob_score=True,\n",
       "                      random_state=42)"
      ]
     },
     "execution_count": 42,
     "metadata": {},
     "output_type": "execute_result"
    }
   ],
   "source": [
    "random_forest = RandomForestRegressor(min_samples_split=120 , min_samples_leaf=450 , n_estimators=350 ,  random_state=42,\n",
    "                                     max_depth=4 , n_jobs=2 , oob_score=True)\n",
    "random_forest.fit(X,y)"
   ]
  },
  {
   "cell_type": "code",
   "execution_count": 43,
   "id": "e5772544",
   "metadata": {},
   "outputs": [
    {
     "name": "stdout",
     "output_type": "stream",
     "text": [
      "MSE: 162.31085908335018\n",
      "MAE: 8.758881814898329\n",
      "R2 0.11418180341768547\n"
     ]
    }
   ],
   "source": [
    "Y_pred = random_forest.predict(X)\n",
    "mse1 = mean_squared_error(y , Y_pred)\n",
    "mae1 = mean_absolute_error(y , Y_pred)\n",
    "R2 = r2_score(y, Y_pred)\n",
    "\n",
    "print(\"MSE:\",mse1)\n",
    "print(\"MAE:\", mae1)\n",
    "print(\"R2\",R2)"
   ]
  },
  {
   "cell_type": "markdown",
   "id": "dae31ba6",
   "metadata": {},
   "source": [
    "* ### Resultado bastante malo para el RANDOM FOREST, haremos igual el de modo de test y entrenamiento para ver como se comportan.\n",
    "----"
   ]
  },
  {
   "cell_type": "code",
   "execution_count": 44,
   "id": "19d2bd19",
   "metadata": {},
   "outputs": [],
   "source": [
    "#Separamos en variables de entrenamiento y test (con un 30% para hacer el test)\n",
    "X_train, X_test , Y_train, Y_test = train_test_split(data_pred_opinion,y , test_size=0.3 , random_state=42)"
   ]
  },
  {
   "cell_type": "code",
   "execution_count": 45,
   "id": "54ecd739",
   "metadata": {},
   "outputs": [
    {
     "name": "stderr",
     "output_type": "stream",
     "text": [
      "C:\\Users\\Acer\\AppData\\Local\\Temp\\ipykernel_13524\\2213422508.py:3: DataConversionWarning: A column-vector y was passed when a 1d array was expected. Please change the shape of y to (n_samples,), for example using ravel().\n",
      "  random_forest.fit(X_train,Y_train)\n"
     ]
    },
    {
     "data": {
      "text/html": [
       "<style>#sk-container-id-5 {color: black;background-color: white;}#sk-container-id-5 pre{padding: 0;}#sk-container-id-5 div.sk-toggleable {background-color: white;}#sk-container-id-5 label.sk-toggleable__label {cursor: pointer;display: block;width: 100%;margin-bottom: 0;padding: 0.3em;box-sizing: border-box;text-align: center;}#sk-container-id-5 label.sk-toggleable__label-arrow:before {content: \"▸\";float: left;margin-right: 0.25em;color: #696969;}#sk-container-id-5 label.sk-toggleable__label-arrow:hover:before {color: black;}#sk-container-id-5 div.sk-estimator:hover label.sk-toggleable__label-arrow:before {color: black;}#sk-container-id-5 div.sk-toggleable__content {max-height: 0;max-width: 0;overflow: hidden;text-align: left;background-color: #f0f8ff;}#sk-container-id-5 div.sk-toggleable__content pre {margin: 0.2em;color: black;border-radius: 0.25em;background-color: #f0f8ff;}#sk-container-id-5 input.sk-toggleable__control:checked~div.sk-toggleable__content {max-height: 200px;max-width: 100%;overflow: auto;}#sk-container-id-5 input.sk-toggleable__control:checked~label.sk-toggleable__label-arrow:before {content: \"▾\";}#sk-container-id-5 div.sk-estimator input.sk-toggleable__control:checked~label.sk-toggleable__label {background-color: #d4ebff;}#sk-container-id-5 div.sk-label input.sk-toggleable__control:checked~label.sk-toggleable__label {background-color: #d4ebff;}#sk-container-id-5 input.sk-hidden--visually {border: 0;clip: rect(1px 1px 1px 1px);clip: rect(1px, 1px, 1px, 1px);height: 1px;margin: -1px;overflow: hidden;padding: 0;position: absolute;width: 1px;}#sk-container-id-5 div.sk-estimator {font-family: monospace;background-color: #f0f8ff;border: 1px dotted black;border-radius: 0.25em;box-sizing: border-box;margin-bottom: 0.5em;}#sk-container-id-5 div.sk-estimator:hover {background-color: #d4ebff;}#sk-container-id-5 div.sk-parallel-item::after {content: \"\";width: 100%;border-bottom: 1px solid gray;flex-grow: 1;}#sk-container-id-5 div.sk-label:hover label.sk-toggleable__label {background-color: #d4ebff;}#sk-container-id-5 div.sk-serial::before {content: \"\";position: absolute;border-left: 1px solid gray;box-sizing: border-box;top: 0;bottom: 0;left: 50%;z-index: 0;}#sk-container-id-5 div.sk-serial {display: flex;flex-direction: column;align-items: center;background-color: white;padding-right: 0.2em;padding-left: 0.2em;position: relative;}#sk-container-id-5 div.sk-item {position: relative;z-index: 1;}#sk-container-id-5 div.sk-parallel {display: flex;align-items: stretch;justify-content: center;background-color: white;position: relative;}#sk-container-id-5 div.sk-item::before, #sk-container-id-5 div.sk-parallel-item::before {content: \"\";position: absolute;border-left: 1px solid gray;box-sizing: border-box;top: 0;bottom: 0;left: 50%;z-index: -1;}#sk-container-id-5 div.sk-parallel-item {display: flex;flex-direction: column;z-index: 1;position: relative;background-color: white;}#sk-container-id-5 div.sk-parallel-item:first-child::after {align-self: flex-end;width: 50%;}#sk-container-id-5 div.sk-parallel-item:last-child::after {align-self: flex-start;width: 50%;}#sk-container-id-5 div.sk-parallel-item:only-child::after {width: 0;}#sk-container-id-5 div.sk-dashed-wrapped {border: 1px dashed gray;margin: 0 0.4em 0.5em 0.4em;box-sizing: border-box;padding-bottom: 0.4em;background-color: white;}#sk-container-id-5 div.sk-label label {font-family: monospace;font-weight: bold;display: inline-block;line-height: 1.2em;}#sk-container-id-5 div.sk-label-container {text-align: center;}#sk-container-id-5 div.sk-container {/* jupyter's `normalize.less` sets `[hidden] { display: none; }` but bootstrap.min.css set `[hidden] { display: none !important; }` so we also need the `!important` here to be able to override the default hidden behavior on the sphinx rendered scikit-learn.org. See: https://github.com/scikit-learn/scikit-learn/issues/21755 */display: inline-block !important;position: relative;}#sk-container-id-5 div.sk-text-repr-fallback {display: none;}</style><div id=\"sk-container-id-5\" class=\"sk-top-container\"><div class=\"sk-text-repr-fallback\"><pre>RandomForestRegressor(max_depth=4, min_samples_leaf=450, min_samples_split=120,\n",
       "                      n_estimators=350, n_jobs=2, oob_score=True,\n",
       "                      random_state=42)</pre><b>In a Jupyter environment, please rerun this cell to show the HTML representation or trust the notebook. <br />On GitHub, the HTML representation is unable to render, please try loading this page with nbviewer.org.</b></div><div class=\"sk-container\" hidden><div class=\"sk-item\"><div class=\"sk-estimator sk-toggleable\"><input class=\"sk-toggleable__control sk-hidden--visually\" id=\"sk-estimator-id-5\" type=\"checkbox\" checked><label for=\"sk-estimator-id-5\" class=\"sk-toggleable__label sk-toggleable__label-arrow\">RandomForestRegressor</label><div class=\"sk-toggleable__content\"><pre>RandomForestRegressor(max_depth=4, min_samples_leaf=450, min_samples_split=120,\n",
       "                      n_estimators=350, n_jobs=2, oob_score=True,\n",
       "                      random_state=42)</pre></div></div></div></div></div>"
      ],
      "text/plain": [
       "RandomForestRegressor(max_depth=4, min_samples_leaf=450, min_samples_split=120,\n",
       "                      n_estimators=350, n_jobs=2, oob_score=True,\n",
       "                      random_state=42)"
      ]
     },
     "execution_count": 45,
     "metadata": {},
     "output_type": "execute_result"
    }
   ],
   "source": [
    "random_forest = RandomForestRegressor(min_samples_split=120 , min_samples_leaf=450 , n_estimators=350 ,  random_state=42,\n",
    "                                     max_depth=4 , n_jobs=2 , oob_score=True)\n",
    "random_forest.fit(X_train,Y_train)"
   ]
  },
  {
   "cell_type": "code",
   "execution_count": 46,
   "id": "c0695c3a",
   "metadata": {},
   "outputs": [
    {
     "name": "stdout",
     "output_type": "stream",
     "text": [
      "MSE: 157.02844696403386\n",
      "MAE: 8.676220516610588\n",
      "R2 0.08006945634225482\n"
     ]
    }
   ],
   "source": [
    "Y_pred = random_forest.predict(X_test)\n",
    "mse1 = mean_squared_error(Y_test , Y_pred)\n",
    "mae1 = mean_absolute_error(Y_test , Y_pred)\n",
    "R2 = r2_score(Y_test, Y_pred)\n",
    "\n",
    "print(\"MSE:\",mse1)\n",
    "print(\"MAE:\", mae1)\n",
    "print(\"R2\",R2)"
   ]
  },
  {
   "cell_type": "markdown",
   "id": "261ecfa3",
   "metadata": {},
   "source": [
    "* ## En resumen sobre el RANDOM FOREST, basándonos en las métricas que proporciona el modelo, el rendimiento del modelo de Random Forest no parece ser muy bueno. El MSE y el MAE son relativamente altos, lo que indica que las predicciones del modelo tienen errores significativos en comparación con los valores reales. Además, el valor de R2 sugiere que el modelo tiene una capacidad limitada para explicar la variabilidad en los datos. NO es un buen modelo predictivo\n",
    "----"
   ]
  },
  {
   "cell_type": "markdown",
   "id": "f76550fd",
   "metadata": {},
   "source": [
    "-----\n",
    "* # RED NEURONAL PARA OPINIONES DE USUARIO."
   ]
  },
  {
   "cell_type": "code",
   "execution_count": 219,
   "id": "9b45a331",
   "metadata": {},
   "outputs": [],
   "source": [
    "import tensorflow as tf\n",
    "from tensorflow.keras.models import Sequential\n",
    "from tensorflow.keras.layers import Dense , Dropout\n",
    "from tensorflow import keras"
   ]
  },
  {
   "cell_type": "code",
   "execution_count": 220,
   "id": "c2dfd3a5",
   "metadata": {},
   "outputs": [],
   "source": [
    "#### Separamos neuvamente en entrenamiento y test\n",
    "X_train, X_test, y_train, y_test = train_test_split(data_pred_opinion, y, test_size=0.3, random_state=42)\n",
    "\n",
    "#### armamos el modelo\n",
    "model = Sequential()\n",
    "model.add(Dense(128, activation='relu' , input_shape=(X_train.shape[1],)))\n",
    "model.add(Dense(64,activation=\"relu\"))\n",
    "model.add(Dense(32, activation=\"relu\"))\n",
    "model.add(Dense(1)) ### capa de salida para la Regresión"
   ]
  },
  {
   "cell_type": "code",
   "execution_count": 221,
   "id": "56d89a3f",
   "metadata": {},
   "outputs": [],
   "source": [
    "### Compilamos\n",
    "model.compile(optimizer=keras.optimizers.RMSprop(learning_rate=0.001), loss='mean_squared_error')"
   ]
  },
  {
   "cell_type": "code",
   "execution_count": 222,
   "id": "69c12819",
   "metadata": {
    "scrolled": true
   },
   "outputs": [
    {
     "name": "stdout",
     "output_type": "stream",
     "text": [
      "Epoch 1/100\n",
      "210/210 [==============================] - 3s 10ms/step - loss: 1297160601600.0000\n",
      "Epoch 2/100\n",
      "210/210 [==============================] - 2s 12ms/step - loss: 116023803904.0000\n",
      "Epoch 3/100\n",
      "210/210 [==============================] - 2s 11ms/step - loss: 29828149248.0000\n",
      "Epoch 4/100\n",
      "210/210 [==============================] - 2s 8ms/step - loss: 16086404096.0000\n",
      "Epoch 5/100\n",
      "210/210 [==============================] - 2s 10ms/step - loss: 5745273344.0000\n",
      "Epoch 6/100\n",
      "210/210 [==============================] - 2s 10ms/step - loss: 4540047.0000\n",
      "Epoch 7/100\n",
      "210/210 [==============================] - 2s 8ms/step - loss: 458683328.0000\n",
      "Epoch 8/100\n",
      "210/210 [==============================] - 2s 9ms/step - loss: 4065.9312\n",
      "Epoch 9/100\n",
      "210/210 [==============================] - 2s 8ms/step - loss: 543503.6250\n",
      "Epoch 10/100\n",
      "210/210 [==============================] - 2s 7ms/step - loss: 32176.7070\n",
      "Epoch 11/100\n",
      "210/210 [==============================] - 2s 8ms/step - loss: 3375.6052\n",
      "Epoch 12/100\n",
      "210/210 [==============================] - 2s 7ms/step - loss: 6595.7427\n",
      "Epoch 13/100\n",
      "210/210 [==============================] - 2s 9ms/step - loss: 11099.4922\n",
      "Epoch 14/100\n",
      "210/210 [==============================] - 3s 14ms/step - loss: 463795.7812\n",
      "Epoch 15/100\n",
      "210/210 [==============================] - 2s 10ms/step - loss: 1719.3053\n",
      "Epoch 16/100\n",
      "210/210 [==============================] - 2s 9ms/step - loss: 219782144.0000\n",
      "Epoch 17/100\n",
      "210/210 [==============================] - 2s 9ms/step - loss: 1005.2825\n",
      "Epoch 18/100\n",
      "210/210 [==============================] - 2s 8ms/step - loss: 704.8478\n",
      "Epoch 19/100\n",
      "210/210 [==============================] - 2s 8ms/step - loss: 622259.4375\n",
      "Epoch 20/100\n",
      "210/210 [==============================] - 2s 9ms/step - loss: 279.3576\n",
      "Epoch 21/100\n",
      "210/210 [==============================] - 2s 8ms/step - loss: 194.8365\n",
      "Epoch 22/100\n",
      "210/210 [==============================] - 2s 9ms/step - loss: 82060419072.0000\n",
      "Epoch 23/100\n",
      "210/210 [==============================] - 2s 9ms/step - loss: 188.7666\n",
      "Epoch 24/100\n",
      "210/210 [==============================] - 2s 8ms/step - loss: 188.5138\n",
      "Epoch 25/100\n",
      "210/210 [==============================] - 2s 9ms/step - loss: 5614380544.0000\n",
      "Epoch 26/100\n",
      "210/210 [==============================] - 2s 9ms/step - loss: 188.5484\n",
      "Epoch 27/100\n",
      "210/210 [==============================] - 2s 9ms/step - loss: 188.6009\n",
      "Epoch 28/100\n",
      "210/210 [==============================] - 2s 9ms/step - loss: 188.6514\n",
      "Epoch 29/100\n",
      "210/210 [==============================] - 2s 8ms/step - loss: 189.0009\n",
      "Epoch 30/100\n",
      "210/210 [==============================] - 2s 9ms/step - loss: 188.6810\n",
      "Epoch 31/100\n",
      "210/210 [==============================] - 2s 9ms/step - loss: 13300917248.0000\n",
      "Epoch 32/100\n",
      "210/210 [==============================] - 2s 9ms/step - loss: 188.9082\n",
      "Epoch 33/100\n",
      "210/210 [==============================] - 2s 9ms/step - loss: 79569024.0000\n",
      "Epoch 34/100\n",
      "210/210 [==============================] - 2s 9ms/step - loss: 188.8472\n",
      "Epoch 35/100\n",
      "210/210 [==============================] - 2s 9ms/step - loss: 188.9068\n",
      "Epoch 36/100\n",
      "210/210 [==============================] - 2s 8ms/step - loss: 188.9312\n",
      "Epoch 37/100\n",
      "210/210 [==============================] - 2s 8ms/step - loss: 188.6474\n",
      "Epoch 38/100\n",
      "210/210 [==============================] - 2s 8ms/step - loss: 188.6141\n",
      "Epoch 39/100\n",
      "210/210 [==============================] - 2s 8ms/step - loss: 800.8302\n",
      "Epoch 40/100\n",
      "210/210 [==============================] - 2s 9ms/step - loss: 188.4534\n",
      "Epoch 41/100\n",
      "210/210 [==============================] - 3s 14ms/step - loss: 313066.5625\n",
      "Epoch 42/100\n",
      "210/210 [==============================] - 3s 16ms/step - loss: 27041578.0000\n",
      "Epoch 43/100\n",
      "210/210 [==============================] - 3s 13ms/step - loss: 188.5141\n",
      "Epoch 44/100\n",
      "210/210 [==============================] - 3s 14ms/step - loss: 188.3954\n",
      "Epoch 45/100\n",
      "210/210 [==============================] - 3s 12ms/step - loss: 188.6549\n",
      "Epoch 46/100\n",
      "210/210 [==============================] - 2s 11ms/step - loss: 188.6018\n",
      "Epoch 47/100\n",
      "210/210 [==============================] - 2s 11ms/step - loss: 188.7224\n",
      "Epoch 48/100\n",
      "210/210 [==============================] - 2s 10ms/step - loss: 188.6625\n",
      "Epoch 49/100\n",
      "210/210 [==============================] - 2s 10ms/step - loss: 188.6832\n",
      "Epoch 50/100\n",
      "210/210 [==============================] - 2s 10ms/step - loss: 188.6583\n",
      "Epoch 51/100\n",
      "210/210 [==============================] - 2s 10ms/step - loss: 188.6827\n",
      "Epoch 52/100\n",
      "210/210 [==============================] - 2s 8ms/step - loss: 188.6717\n",
      "Epoch 53/100\n",
      "210/210 [==============================] - 2s 9ms/step - loss: 188.6862\n",
      "Epoch 54/100\n",
      "210/210 [==============================] - 2s 11ms/step - loss: 188.6728\n",
      "Epoch 55/100\n",
      "210/210 [==============================] - 2s 9ms/step - loss: 188.6858\n",
      "Epoch 56/100\n",
      "210/210 [==============================] - 2s 9ms/step - loss: 188.6759\n",
      "Epoch 57/100\n",
      "210/210 [==============================] - 2s 8ms/step - loss: 188.6594\n",
      "Epoch 58/100\n",
      "210/210 [==============================] - 2s 8ms/step - loss: 188.6180\n",
      "Epoch 59/100\n",
      "210/210 [==============================] - 2s 8ms/step - loss: 188.6801\n",
      "Epoch 60/100\n",
      "210/210 [==============================] - 2s 8ms/step - loss: 188.6876\n",
      "Epoch 61/100\n",
      "210/210 [==============================] - 2s 8ms/step - loss: 188.6778\n",
      "Epoch 62/100\n",
      "210/210 [==============================] - 2s 10ms/step - loss: 188.6499\n",
      "Epoch 63/100\n",
      "210/210 [==============================] - 2s 10ms/step - loss: 188.6993\n",
      "Epoch 64/100\n",
      "210/210 [==============================] - 2s 10ms/step - loss: 188.6726\n",
      "Epoch 65/100\n",
      "210/210 [==============================] - 3s 12ms/step - loss: 188.6723\n",
      "Epoch 66/100\n",
      "210/210 [==============================] - 3s 13ms/step - loss: 188.6796\n",
      "Epoch 67/100\n",
      "210/210 [==============================] - 2s 10ms/step - loss: 188.6716\n",
      "Epoch 68/100\n",
      "210/210 [==============================] - 2s 9ms/step - loss: 188.7017\n",
      "Epoch 69/100\n",
      "210/210 [==============================] - 2s 9ms/step - loss: 188.6793\n",
      "Epoch 70/100\n",
      "210/210 [==============================] - 2s 9ms/step - loss: 188.5720\n",
      "Epoch 71/100\n",
      "210/210 [==============================] - 2s 7ms/step - loss: 188.6917\n",
      "Epoch 72/100\n",
      "210/210 [==============================] - 2s 8ms/step - loss: 188.6643\n",
      "Epoch 73/100\n",
      "210/210 [==============================] - 2s 7ms/step - loss: 188.6965\n",
      "Epoch 74/100\n",
      "210/210 [==============================] - 2s 7ms/step - loss: 188.6511\n",
      "Epoch 75/100\n",
      "210/210 [==============================] - 2s 8ms/step - loss: 188.6589\n",
      "Epoch 76/100\n",
      "210/210 [==============================] - 2s 7ms/step - loss: 188.6541\n",
      "Epoch 77/100\n",
      "210/210 [==============================] - 2s 8ms/step - loss: 188.6782\n",
      "Epoch 78/100\n",
      "210/210 [==============================] - 2s 8ms/step - loss: 188.6421\n",
      "Epoch 79/100\n",
      "210/210 [==============================] - 2s 9ms/step - loss: 188.6648\n",
      "Epoch 80/100\n",
      "210/210 [==============================] - 2s 10ms/step - loss: 188.6602\n",
      "Epoch 81/100\n",
      "210/210 [==============================] - 2s 9ms/step - loss: 188.6568\n",
      "Epoch 82/100\n",
      "210/210 [==============================] - 2s 11ms/step - loss: 188.6854\n",
      "Epoch 83/100\n",
      "210/210 [==============================] - 2s 10ms/step - loss: 188.6619\n",
      "Epoch 84/100\n",
      "210/210 [==============================] - 2s 11ms/step - loss: 188.6996\n",
      "Epoch 85/100\n",
      "210/210 [==============================] - 3s 15ms/step - loss: 188.6744\n",
      "Epoch 86/100\n",
      "210/210 [==============================] - 3s 16ms/step - loss: 188.6309\n",
      "Epoch 87/100\n",
      "210/210 [==============================] - 3s 13ms/step - loss: 188.7099\n",
      "Epoch 88/100\n",
      "210/210 [==============================] - 2s 12ms/step - loss: 188.6395\n",
      "Epoch 89/100\n",
      "210/210 [==============================] - 2s 9ms/step - loss: 188.6458\n",
      "Epoch 90/100\n",
      "210/210 [==============================] - 2s 11ms/step - loss: 188.5419\n",
      "Epoch 91/100\n",
      "210/210 [==============================] - 2s 8ms/step - loss: 188.7252\n",
      "Epoch 92/100\n",
      "210/210 [==============================] - 2s 8ms/step - loss: 188.6671\n",
      "Epoch 93/100\n",
      "210/210 [==============================] - 2s 9ms/step - loss: 188.6914\n",
      "Epoch 94/100\n",
      "210/210 [==============================] - 2s 10ms/step - loss: 188.6006\n",
      "Epoch 95/100\n",
      "210/210 [==============================] - 2s 8ms/step - loss: 188.6893\n",
      "Epoch 96/100\n",
      "210/210 [==============================] - 2s 7ms/step - loss: 188.7011\n",
      "Epoch 97/100\n",
      "210/210 [==============================] - 2s 7ms/step - loss: 188.6786\n",
      "Epoch 98/100\n",
      "210/210 [==============================] - 2s 8ms/step - loss: 188.7019\n",
      "Epoch 99/100\n",
      "210/210 [==============================] - 2s 7ms/step - loss: 188.6311\n",
      "Epoch 100/100\n",
      "210/210 [==============================] - 2s 7ms/step - loss: 188.6905\n"
     ]
    },
    {
     "data": {
      "text/plain": [
       "<keras.callbacks.History at 0x1911ced49d0>"
      ]
     },
     "execution_count": 222,
     "metadata": {},
     "output_type": "execute_result"
    }
   ],
   "source": [
    "#### ENTRENAMOS LA RED NEURONAL \n",
    "model.fit(X_train , y_train , epochs=100 , batch_size=34)"
   ]
  },
  {
   "cell_type": "code",
   "execution_count": 223,
   "id": "1974d268",
   "metadata": {},
   "outputs": [
    {
     "name": "stdout",
     "output_type": "stream",
     "text": [
      "96/96 [==============================] - 1s 4ms/step - loss: 170.8407\n",
      "96/96 [==============================] - 0s 3ms/step\n"
     ]
    }
   ],
   "source": [
    "###### rendimiento del modelo\n",
    "loss = model.evaluate(X_test, y_test)\n",
    "\n",
    "# Las predicciones\n",
    "y_pred = model.predict(X_test)"
   ]
  },
  {
   "cell_type": "code",
   "execution_count": 224,
   "id": "37dfa327",
   "metadata": {},
   "outputs": [
    {
     "name": "stdout",
     "output_type": "stream",
     "text": [
      "MSE: 170.84068807238407\n",
      "MAE: 8.708833365949369\n",
      "R2: -0.0008477450795152386\n"
     ]
    }
   ],
   "source": [
    "mse = mean_squared_error(y_test, y_pred)\n",
    "mae = mean_absolute_error(y_test, y_pred)\n",
    "r2 = r2_score(y_test, y_pred)\n",
    "\n",
    "print(\"MSE:\", mse)\n",
    "print(\"MAE:\", mae)\n",
    "print(\"R2:\", r2)"
   ]
  },
  {
   "cell_type": "markdown",
   "id": "45772bdb",
   "metadata": {},
   "source": [
    "* ## Los resultados que obtuvimos con la red neuronal inicial son bastante pobres, lo cual indica que el modelo no está ajustándose adecuadamente a los datos. intentaremos de hacer una red mas compleja y ver si mejora, sino tomaremos la Regresion lineal y trataremos de mejorarla .\n",
    "----"
   ]
  },
  {
   "cell_type": "code",
   "execution_count": 173,
   "id": "957cf95b",
   "metadata": {},
   "outputs": [],
   "source": [
    "###### Datos de entrada\n",
    "X = data_pred_opinion\n",
    "y = data[\"opiniones_usuarios\"]\n",
    "\n",
    "# Dividir datos en conjuntos de entrenamiento y prueba\n",
    "X_train, X_test, y_train, y_test = train_test_split(X, y, test_size=0.3, random_state=42)"
   ]
  },
  {
   "cell_type": "code",
   "execution_count": 174,
   "id": "a4ad9c6f",
   "metadata": {},
   "outputs": [],
   "source": [
    "# Construir el modelo de la red neuronal\n",
    "model = Sequential()\n",
    "model.add(Dense(256, activation='relu', input_shape=(X_train.shape[1],)))\n",
    "model.add(Dropout(0.3))\n",
    "model.add(Dense(128, activation='relu'))\n",
    "model.add(Dropout(0.3))\n",
    "model.add(Dense(64, activation='relu'))\n",
    "model.add(Dropout(0.3))\n",
    "model.add(Dense(32, activation='relu'))\n",
    "model.add(Dropout(0.3))\n",
    "model.add(Dense(1))"
   ]
  },
  {
   "cell_type": "code",
   "execution_count": 175,
   "id": "ef122251",
   "metadata": {},
   "outputs": [],
   "source": [
    "###### Compilar el modelo\n",
    "model.compile(optimizer=keras.optimizers.Adamax(learning_rate=0.001), loss='mean_squared_error')"
   ]
  },
  {
   "cell_type": "code",
   "execution_count": 158,
   "id": "9ae6fef3",
   "metadata": {
    "scrolled": true
   },
   "outputs": [
    {
     "name": "stdout",
     "output_type": "stream",
     "text": [
      "Epoch 1/10\n",
      "223/223 [==============================] - 3s 10ms/step - loss: 21189797871616.0000\n",
      "Epoch 2/10\n",
      "223/223 [==============================] - 2s 8ms/step - loss: 4463999844352.0000\n",
      "Epoch 3/10\n",
      "223/223 [==============================] - 2s 8ms/step - loss: 2447340732416.0000\n",
      "Epoch 4/10\n",
      "223/223 [==============================] - 2s 11ms/step - loss: 1643791122432.0000\n",
      "Epoch 5/10\n",
      "223/223 [==============================] - 2s 10ms/step - loss: 1260727042048.0000\n",
      "Epoch 6/10\n",
      "223/223 [==============================] - 2s 8ms/step - loss: 920248123392.0000\n",
      "Epoch 7/10\n",
      "223/223 [==============================] - 2s 9ms/step - loss: 711517667328.0000\n",
      "Epoch 8/10\n",
      "223/223 [==============================] - 2s 8ms/step - loss: 573388292096.0000\n",
      "Epoch 9/10\n",
      "223/223 [==============================] - 2s 9ms/step - loss: 439637803008.0000\n",
      "Epoch 10/10\n",
      "223/223 [==============================] - 2s 11ms/step - loss: 310507143168.0000\n"
     ]
    },
    {
     "data": {
      "text/plain": [
       "<keras.callbacks.History at 0x19115ccb670>"
      ]
     },
     "execution_count": 158,
     "metadata": {},
     "output_type": "execute_result"
    }
   ],
   "source": [
    "###### #### Entrenar la red neuronal\n",
    "model.fit(X_train, y_train, epochs=10, batch_size=32, verbose=1)"
   ]
  },
  {
   "cell_type": "code",
   "execution_count": 159,
   "id": "f6d37e47",
   "metadata": {},
   "outputs": [
    {
     "name": "stdout",
     "output_type": "stream",
     "text": [
      "96/96 [==============================] - 1s 4ms/step\n"
     ]
    }
   ],
   "source": [
    "# Realizar predicciones\n",
    "y_pred = model.predict(X_test)"
   ]
  },
  {
   "cell_type": "code",
   "execution_count": 160,
   "id": "8c032c87",
   "metadata": {},
   "outputs": [
    {
     "name": "stdout",
     "output_type": "stream",
     "text": [
      "MSE: 7399346175.097708\n",
      "MAE: 61864.933405060234\n",
      "R2: -43348097.26609669\n"
     ]
    }
   ],
   "source": [
    "# Calcular las métricas\n",
    "mse = mean_squared_error(y_test, y_pred)\n",
    "mae = mean_absolute_error(y_test, y_pred)\n",
    "r2 = r2_score(y_test, y_pred)\n",
    "\n",
    "# Mostrar las métricas\n",
    "print(\"MSE:\", mse)\n",
    "print(\"MAE:\", mae)\n",
    "print(\"R2:\", r2)"
   ]
  },
  {
   "cell_type": "markdown",
   "id": "ae66d043",
   "metadata": {},
   "source": [
    "* # Observación:\n",
    "* ## para que no sea un trabajo muy extenso voy a ir probando disintos optimizadores y pondre los resultados del R2 que voy obteniendo .\n",
    "    * ### Adagrad = -19.88 -.MALO\n",
    "    * ### Adadelta = -20004 -.MALO\n",
    "    * ### Nadam = -311 -.MALO\n",
    "    * ### Ftrl = -23.75\n",
    "    * ### RMSprop = -22.11\n",
    "    * ### RMSprop2 = 0.00013\n",
    "    \n",
    "* ## Todos valores muy pobres y por debajo de las espectativas.\n",
    "\n",
    "----"
   ]
  },
  {
   "cell_type": "markdown",
   "id": "1a13db8a",
   "metadata": {},
   "source": [
    "* # Intentaremos algunas mas con menos datos "
   ]
  },
  {
   "cell_type": "code",
   "execution_count": 226,
   "id": "7deef429",
   "metadata": {},
   "outputs": [],
   "source": [
    "y = data[[\"opiniones_usuarios\"]]"
   ]
  },
  {
   "cell_type": "code",
   "execution_count": 227,
   "id": "e26be58d",
   "metadata": {},
   "outputs": [],
   "source": [
    "X_train, X_test, y_train, y_test = train_test_split(x, y, test_size=0.3, random_state=42)\n",
    "\n",
    "#### armamos el modelo\n",
    "model = Sequential()\n",
    "model.add(Dense(128, activation='relu' , input_shape=(X_train.shape[1],)))\n",
    "model.add(Dense(64,activation=\"relu\"))\n",
    "model.add(Dense(32, activation=\"relu\"))\n",
    "model.add(Dense(1)) ### capa de salida para la Regresión"
   ]
  },
  {
   "cell_type": "code",
   "execution_count": 228,
   "id": "043416a4",
   "metadata": {},
   "outputs": [],
   "source": [
    "### Compilamos\n",
    "model.compile(optimizer=keras.optimizers.RMSprop(learning_rate=0.001), loss='mean_squared_error')"
   ]
  },
  {
   "cell_type": "code",
   "execution_count": 232,
   "id": "29a8decd",
   "metadata": {
    "scrolled": true
   },
   "outputs": [
    {
     "name": "stdout",
     "output_type": "stream",
     "text": [
      "Epoch 1/10\n",
      "223/223 [==============================] - 1s 3ms/step - loss: 1025948057600.0000\n",
      "Epoch 2/10\n",
      "223/223 [==============================] - 1s 3ms/step - loss: 52632543232.0000\n",
      "Epoch 3/10\n",
      "223/223 [==============================] - 1s 3ms/step - loss: 3100910336.0000\n",
      "Epoch 4/10\n",
      "223/223 [==============================] - 1s 3ms/step - loss: 22103316.0000\n",
      "Epoch 5/10\n",
      "223/223 [==============================] - 1s 3ms/step - loss: 5908554.0000\n",
      "Epoch 6/10\n",
      "223/223 [==============================] - 1s 3ms/step - loss: 4101.3247\n",
      "Epoch 7/10\n",
      "223/223 [==============================] - 1s 5ms/step - loss: 66329.9922\n",
      "Epoch 8/10\n",
      "223/223 [==============================] - 1s 4ms/step - loss: 3793.2798\n",
      "Epoch 9/10\n",
      "223/223 [==============================] - 1s 5ms/step - loss: 3520.3259\n",
      "Epoch 10/10\n",
      "223/223 [==============================] - 1s 3ms/step - loss: 3163.4390\n"
     ]
    },
    {
     "data": {
      "text/plain": [
       "<keras.callbacks.History at 0x1911f8afeb0>"
      ]
     },
     "execution_count": 232,
     "metadata": {},
     "output_type": "execute_result"
    }
   ],
   "source": [
    "#### ENTRENAMOS LA RED NEURONAL \n",
    "model.fit(X_train , y_train , epochs=10 , batch_size=32)"
   ]
  },
  {
   "cell_type": "code",
   "execution_count": 233,
   "id": "20a0b060",
   "metadata": {},
   "outputs": [
    {
     "name": "stdout",
     "output_type": "stream",
     "text": [
      "96/96 [==============================] - 0s 2ms/step - loss: 2973.1379\n",
      "96/96 [==============================] - 0s 2ms/step\n"
     ]
    }
   ],
   "source": [
    "###### rendimiento del modelo\n",
    "loss = model.evaluate(X_test, y_test)\n",
    "\n",
    "# Las predicciones\n",
    "y_pred = model.predict(X_test)"
   ]
  },
  {
   "cell_type": "code",
   "execution_count": 234,
   "id": "de3a80ed",
   "metadata": {},
   "outputs": [
    {
     "name": "stdout",
     "output_type": "stream",
     "text": [
      "MSE: 2973.1381508613404\n",
      "MAE: 53.320936419718706\n",
      "R2: -16.41773957758052\n"
     ]
    }
   ],
   "source": [
    "mse = mean_squared_error(y_test, y_pred)\n",
    "mae = mean_absolute_error(y_test, y_pred)\n",
    "r2 = r2_score(y_test, y_pred)\n",
    "\n",
    "print(\"MSE:\", mse)\n",
    "print(\"MAE:\", mae)\n",
    "print(\"R2:\", r2)"
   ]
  },
  {
   "cell_type": "markdown",
   "id": "313428f9",
   "metadata": {},
   "source": [
    "* # R2 = -16.41 .-resultado negativo\n",
    "-----"
   ]
  },
  {
   "cell_type": "code",
   "execution_count": 267,
   "id": "10d98f24",
   "metadata": {},
   "outputs": [],
   "source": [
    "from sklearn.model_selection import train_test_split\n",
    "from sklearn.linear_model import Ridge\n",
    "from sklearn.preprocessing import StandardScaler"
   ]
  },
  {
   "cell_type": "code",
   "execution_count": 268,
   "id": "d76fe3ef",
   "metadata": {},
   "outputs": [],
   "source": [
    "# Dividir los datos en conjuntos de entrenamiento y prueba\n",
    "X_train, X_test, y_train, y_test = train_test_split(data_pred_opinion, y, test_size=0.2, random_state=42)"
   ]
  },
  {
   "cell_type": "code",
   "execution_count": 269,
   "id": "23deced0",
   "metadata": {},
   "outputs": [],
   "source": [
    "# Escalar los datos\n",
    "scaler = StandardScaler()\n",
    "X_train_scaled = scaler.fit_transform(X_train)\n",
    "X_test_scaled = scaler.transform(X_test)"
   ]
  },
  {
   "cell_type": "code",
   "execution_count": 270,
   "id": "73b01445",
   "metadata": {},
   "outputs": [
    {
     "name": "stdout",
     "output_type": "stream",
     "text": [
      "Score: -0.5456310703964304\n"
     ]
    }
   ],
   "source": [
    "# Ajustar un modelo de regresión lineal con regularización Ridge\n",
    "ridge = Ridge(alpha=0.5)  # Puedes ajustar el parámetro alpha según tus necesidades\n",
    "ridge.fit(X_train_scaled, y_train)\n",
    "\n",
    "# Evaluar el modelo en el conjunto de prueba\n",
    "score = ridge.score(X_test_scaled, y_test)\n",
    "print(\"Score:\", score)"
   ]
  },
  {
   "cell_type": "markdown",
   "id": "0fe832db",
   "metadata": {},
   "source": [
    "* # R2 = -0.54 .-resultado negativo\n",
    "-----"
   ]
  },
  {
   "cell_type": "code",
   "execution_count": 305,
   "id": "53ca2eca",
   "metadata": {},
   "outputs": [],
   "source": [
    "from sklearn.model_selection import train_test_split\n",
    "from sklearn.preprocessing import StandardScaler\n",
    "from tensorflow.keras.models import Sequential\n",
    "from tensorflow.keras.layers import Dense\n",
    "from tensorflow.keras.optimizers import Adam"
   ]
  },
  {
   "cell_type": "code",
   "execution_count": 306,
   "id": "1e9fee11",
   "metadata": {},
   "outputs": [],
   "source": [
    "# Dividir los datos en conjuntos de entrenamiento y prueba\n",
    "X_train, X_test, y_train, y_test = train_test_split(x, y, test_size=0.3, random_state=42)"
   ]
  },
  {
   "cell_type": "code",
   "execution_count": 307,
   "id": "eacc6dd8",
   "metadata": {},
   "outputs": [],
   "source": [
    "# Escalar los datos\n",
    "scaler = StandardScaler()\n",
    "X_train_scaled = scaler.fit_transform(X_train)\n",
    "X_test_scaled = scaler.transform(X_test)\n",
    "\n",
    "# Construir el modelo de Red Neuronal Artificial (ANN)\n",
    "model = Sequential()\n",
    "model.add(Dense(128, activation='relu', input_shape=(X_train_scaled.shape[1],)))\n",
    "model.add(Dense(64, activation='relu'))\n",
    "model.add(Dense(32, activation='relu'))\n",
    "model.add(Dense(1))"
   ]
  },
  {
   "cell_type": "code",
   "execution_count": 308,
   "id": "ae8bdf44",
   "metadata": {},
   "outputs": [],
   "source": [
    "# Compilar el modelo\n",
    "optimizer = Adam(learning_rate=0.0001)  # Puedes ajustar la tasa de aprendizaje según tus necesidades\n",
    "model.compile(optimizer=optimizer, loss='mean_squared_error')"
   ]
  },
  {
   "cell_type": "code",
   "execution_count": 309,
   "id": "4b888e64",
   "metadata": {
    "scrolled": true
   },
   "outputs": [
    {
     "name": "stdout",
     "output_type": "stream",
     "text": [
      "Epoch 1/50\n",
      "223/223 [==============================] - 2s 5ms/step - loss: 4095.1016\n",
      "Epoch 2/50\n",
      "223/223 [==============================] - 1s 5ms/step - loss: 3165.3677\n",
      "Epoch 3/50\n",
      "223/223 [==============================] - 1s 4ms/step - loss: 1217.1637\n",
      "Epoch 4/50\n",
      "223/223 [==============================] - 1s 3ms/step - loss: 481.7885\n",
      "Epoch 5/50\n",
      "223/223 [==============================] - 1s 4ms/step - loss: 400.3384\n",
      "Epoch 6/50\n",
      "223/223 [==============================] - 1s 3ms/step - loss: 364.6103\n",
      "Epoch 7/50\n",
      "223/223 [==============================] - 1s 3ms/step - loss: 334.5680\n",
      "Epoch 8/50\n",
      "223/223 [==============================] - 1s 3ms/step - loss: 306.6027\n",
      "Epoch 9/50\n",
      "223/223 [==============================] - 1s 3ms/step - loss: 281.5520\n",
      "Epoch 10/50\n",
      "223/223 [==============================] - 1s 3ms/step - loss: 259.0200\n",
      "Epoch 11/50\n",
      "223/223 [==============================] - 1s 4ms/step - loss: 239.4318\n",
      "Epoch 12/50\n",
      "223/223 [==============================] - 1s 4ms/step - loss: 222.9254\n",
      "Epoch 13/50\n",
      "223/223 [==============================] - 1s 3ms/step - loss: 209.0722\n",
      "Epoch 14/50\n",
      "223/223 [==============================] - 1s 3ms/step - loss: 197.7943\n",
      "Epoch 15/50\n",
      "223/223 [==============================] - 1s 3ms/step - loss: 188.5574\n",
      "Epoch 16/50\n",
      "223/223 [==============================] - 1s 3ms/step - loss: 180.7703\n",
      "Epoch 17/50\n",
      "223/223 [==============================] - 1s 4ms/step - loss: 174.2675\n",
      "Epoch 18/50\n",
      "223/223 [==============================] - 1s 4ms/step - loss: 168.7688\n",
      "Epoch 19/50\n",
      "223/223 [==============================] - 1s 4ms/step - loss: 164.0929\n",
      "Epoch 20/50\n",
      "223/223 [==============================] - 1s 4ms/step - loss: 160.0330\n",
      "Epoch 21/50\n",
      "223/223 [==============================] - 1s 4ms/step - loss: 156.4753\n",
      "Epoch 22/50\n",
      "223/223 [==============================] - 1s 3ms/step - loss: 153.6123\n",
      "Epoch 23/50\n",
      "223/223 [==============================] - 1s 3ms/step - loss: 151.0701\n",
      "Epoch 24/50\n",
      "223/223 [==============================] - 1s 3ms/step - loss: 149.1354\n",
      "Epoch 25/50\n",
      "223/223 [==============================] - 1s 3ms/step - loss: 147.1249\n",
      "Epoch 26/50\n",
      "223/223 [==============================] - 1s 3ms/step - loss: 145.3727\n",
      "Epoch 27/50\n",
      "223/223 [==============================] - 1s 3ms/step - loss: 143.6497\n",
      "Epoch 28/50\n",
      "223/223 [==============================] - 1s 3ms/step - loss: 141.8004\n",
      "Epoch 29/50\n",
      "223/223 [==============================] - 1s 3ms/step - loss: 139.9418\n",
      "Epoch 30/50\n",
      "223/223 [==============================] - 1s 3ms/step - loss: 137.9566\n",
      "Epoch 31/50\n",
      "223/223 [==============================] - 1s 3ms/step - loss: 135.9093\n",
      "Epoch 32/50\n",
      "223/223 [==============================] - 1s 3ms/step - loss: 133.8743\n",
      "Epoch 33/50\n",
      "223/223 [==============================] - 1s 3ms/step - loss: 131.6153\n",
      "Epoch 34/50\n",
      "223/223 [==============================] - 1s 3ms/step - loss: 129.9926\n",
      "Epoch 35/50\n",
      "223/223 [==============================] - 1s 3ms/step - loss: 128.3732\n",
      "Epoch 36/50\n",
      "223/223 [==============================] - 1s 3ms/step - loss: 126.7463\n",
      "Epoch 37/50\n",
      "223/223 [==============================] - 1s 3ms/step - loss: 125.5335\n",
      "Epoch 38/50\n",
      "223/223 [==============================] - 1s 5ms/step - loss: 124.2071\n",
      "Epoch 39/50\n",
      "223/223 [==============================] - 1s 6ms/step - loss: 122.9714\n",
      "Epoch 40/50\n",
      "223/223 [==============================] - 1s 5ms/step - loss: 121.9740\n",
      "Epoch 41/50\n",
      "223/223 [==============================] - 1s 6ms/step - loss: 121.0770\n",
      "Epoch 42/50\n",
      "223/223 [==============================] - 1s 4ms/step - loss: 120.3112\n",
      "Epoch 43/50\n",
      "223/223 [==============================] - 1s 3ms/step - loss: 119.5011\n",
      "Epoch 44/50\n",
      "223/223 [==============================] - 1s 3ms/step - loss: 118.8249\n",
      "Epoch 45/50\n",
      "223/223 [==============================] - 1s 3ms/step - loss: 118.3517\n",
      "Epoch 46/50\n",
      "223/223 [==============================] - 1s 3ms/step - loss: 117.6932\n",
      "Epoch 47/50\n",
      "223/223 [==============================] - 1s 3ms/step - loss: 117.3436\n",
      "Epoch 48/50\n",
      "223/223 [==============================] - 1s 3ms/step - loss: 117.0785\n",
      "Epoch 49/50\n",
      "223/223 [==============================] - 1s 3ms/step - loss: 116.5045\n",
      "Epoch 50/50\n",
      "223/223 [==============================] - 1s 3ms/step - loss: 116.2292\n"
     ]
    },
    {
     "data": {
      "text/plain": [
       "<keras.callbacks.History at 0x19120236760>"
      ]
     },
     "execution_count": 309,
     "metadata": {},
     "output_type": "execute_result"
    }
   ],
   "source": [
    "# Entrenar el modelo\n",
    "model.fit(X_train_scaled, y_train, epochs=50, batch_size=32)"
   ]
  },
  {
   "cell_type": "code",
   "execution_count": 310,
   "id": "f1144149",
   "metadata": {},
   "outputs": [
    {
     "name": "stdout",
     "output_type": "stream",
     "text": [
      "96/96 [==============================] - 0s 2ms/step - loss: 120.4163\n",
      "Score: 120.416259765625\n"
     ]
    }
   ],
   "source": [
    "# Evaluar el modelo en el conjunto de prueba\n",
    "score = model.evaluate(X_test_scaled, y_test)\n",
    "print(\"Score:\", score)"
   ]
  },
  {
   "cell_type": "code",
   "execution_count": 314,
   "id": "b651cea4",
   "metadata": {
    "scrolled": true
   },
   "outputs": [
    {
     "name": "stdout",
     "output_type": "stream",
     "text": [
      "Epoch 1/500\n",
      "223/223 [==============================] - 2s 5ms/step - loss: 3927.7102\n",
      "Epoch 2/500\n",
      "223/223 [==============================] - 1s 5ms/step - loss: 788.8171\n",
      "Epoch 3/500\n",
      "223/223 [==============================] - 1s 5ms/step - loss: 399.1750\n",
      "Epoch 4/500\n",
      "223/223 [==============================] - 1s 5ms/step - loss: 336.9486\n",
      "Epoch 5/500\n",
      "223/223 [==============================] - 1s 6ms/step - loss: 284.9242\n",
      "Epoch 6/500\n",
      "223/223 [==============================] - 2s 7ms/step - loss: 244.0122\n",
      "Epoch 7/500\n",
      "223/223 [==============================] - 1s 6ms/step - loss: 211.9077\n",
      "Epoch 8/500\n",
      "223/223 [==============================] - 1s 6ms/step - loss: 188.6201\n",
      "Epoch 9/500\n",
      "223/223 [==============================] - 1s 6ms/step - loss: 171.4435\n",
      "Epoch 10/500\n",
      "223/223 [==============================] - 2s 7ms/step - loss: 159.1015\n",
      "Epoch 11/500\n",
      "223/223 [==============================] - 2s 7ms/step - loss: 150.1075\n",
      "Epoch 12/500\n",
      "223/223 [==============================] - 1s 6ms/step - loss: 143.3182\n",
      "Epoch 13/500\n",
      "223/223 [==============================] - 1s 5ms/step - loss: 138.0060\n",
      "Epoch 14/500\n",
      "223/223 [==============================] - 1s 4ms/step - loss: 134.2369\n",
      "Epoch 15/500\n",
      "223/223 [==============================] - 1s 4ms/step - loss: 131.1774\n",
      "Epoch 16/500\n",
      "223/223 [==============================] - 1s 4ms/step - loss: 128.5617\n",
      "Epoch 17/500\n",
      "223/223 [==============================] - 1s 4ms/step - loss: 126.1149\n",
      "Epoch 18/500\n",
      "223/223 [==============================] - 1s 5ms/step - loss: 124.7350\n",
      "Epoch 19/500\n",
      "223/223 [==============================] - 1s 7ms/step - loss: 122.5260\n",
      "Epoch 20/500\n",
      "223/223 [==============================] - 2s 8ms/step - loss: 120.8736\n",
      "Epoch 21/500\n",
      "223/223 [==============================] - 2s 8ms/step - loss: 119.8004\n",
      "Epoch 22/500\n",
      "223/223 [==============================] - 2s 8ms/step - loss: 119.2316\n",
      "Epoch 23/500\n",
      "223/223 [==============================] - 1s 6ms/step - loss: 118.0291\n",
      "Epoch 24/500\n",
      "223/223 [==============================] - 1s 6ms/step - loss: 117.6132\n",
      "Epoch 25/500\n",
      "223/223 [==============================] - 1s 7ms/step - loss: 116.6090\n",
      "Epoch 26/500\n",
      "223/223 [==============================] - 2s 9ms/step - loss: 115.7682\n",
      "Epoch 27/500\n",
      "223/223 [==============================] - 1s 6ms/step - loss: 115.3873\n",
      "Epoch 28/500\n",
      "223/223 [==============================] - 1s 6ms/step - loss: 114.9407\n",
      "Epoch 29/500\n",
      "223/223 [==============================] - 1s 5ms/step - loss: 114.3557\n",
      "Epoch 30/500\n",
      "223/223 [==============================] - 1s 5ms/step - loss: 113.8518\n",
      "Epoch 31/500\n",
      "223/223 [==============================] - 1s 5ms/step - loss: 113.1646\n",
      "Epoch 32/500\n",
      "223/223 [==============================] - 1s 6ms/step - loss: 112.8945\n",
      "Epoch 33/500\n",
      "223/223 [==============================] - 1s 6ms/step - loss: 112.3092\n",
      "Epoch 34/500\n",
      "223/223 [==============================] - 1s 6ms/step - loss: 112.0667\n",
      "Epoch 35/500\n",
      "223/223 [==============================] - 1s 6ms/step - loss: 111.6754\n",
      "Epoch 36/500\n",
      "223/223 [==============================] - 1s 6ms/step - loss: 111.1789\n",
      "Epoch 37/500\n",
      "223/223 [==============================] - 1s 5ms/step - loss: 111.0832\n",
      "Epoch 38/500\n",
      "223/223 [==============================] - 1s 6ms/step - loss: 110.4744\n",
      "Epoch 39/500\n",
      "223/223 [==============================] - 1s 6ms/step - loss: 110.7450\n",
      "Epoch 40/500\n",
      "223/223 [==============================] - 1s 6ms/step - loss: 110.0754\n",
      "Epoch 41/500\n",
      "223/223 [==============================] - 1s 6ms/step - loss: 109.7136\n",
      "Epoch 42/500\n",
      "223/223 [==============================] - 1s 7ms/step - loss: 109.6808\n",
      "Epoch 43/500\n",
      "223/223 [==============================] - 1s 7ms/step - loss: 109.2012\n",
      "Epoch 44/500\n",
      "223/223 [==============================] - 1s 5ms/step - loss: 108.7311\n",
      "Epoch 45/500\n",
      "223/223 [==============================] - 1s 5ms/step - loss: 108.6696\n",
      "Epoch 46/500\n",
      "223/223 [==============================] - 1s 4ms/step - loss: 108.8626\n",
      "Epoch 47/500\n",
      "223/223 [==============================] - 1s 4ms/step - loss: 108.3524\n",
      "Epoch 48/500\n",
      "223/223 [==============================] - 1s 5ms/step - loss: 108.5038\n",
      "Epoch 49/500\n",
      "223/223 [==============================] - 1s 5ms/step - loss: 108.3343\n",
      "Epoch 50/500\n",
      "223/223 [==============================] - 1s 5ms/step - loss: 107.7857\n",
      "Epoch 51/500\n",
      "223/223 [==============================] - 1s 5ms/step - loss: 107.6437\n",
      "Epoch 52/500\n",
      "223/223 [==============================] - 1s 5ms/step - loss: 107.4289\n",
      "Epoch 53/500\n",
      "223/223 [==============================] - 1s 6ms/step - loss: 107.2413\n",
      "Epoch 54/500\n",
      "223/223 [==============================] - 1s 6ms/step - loss: 107.2350\n",
      "Epoch 55/500\n",
      "223/223 [==============================] - 1s 6ms/step - loss: 107.0000\n",
      "Epoch 56/500\n",
      "223/223 [==============================] - 1s 6ms/step - loss: 106.8549\n",
      "Epoch 57/500\n",
      "223/223 [==============================] - 1s 6ms/step - loss: 106.5109\n",
      "Epoch 58/500\n",
      "223/223 [==============================] - 1s 6ms/step - loss: 105.8332\n",
      "Epoch 59/500\n",
      "223/223 [==============================] - 1s 6ms/step - loss: 106.2084\n",
      "Epoch 60/500\n",
      "223/223 [==============================] - 1s 6ms/step - loss: 106.1167\n",
      "Epoch 61/500\n",
      "223/223 [==============================] - 1s 5ms/step - loss: 105.4819\n",
      "Epoch 62/500\n",
      "223/223 [==============================] - 1s 5ms/step - loss: 105.4866\n",
      "Epoch 63/500\n",
      "223/223 [==============================] - 1s 5ms/step - loss: 105.1853\n",
      "Epoch 64/500\n",
      "223/223 [==============================] - 1s 5ms/step - loss: 105.0750\n",
      "Epoch 65/500\n",
      "223/223 [==============================] - 1s 5ms/step - loss: 105.1630\n",
      "Epoch 66/500\n",
      "223/223 [==============================] - 1s 6ms/step - loss: 104.7671\n",
      "Epoch 67/500\n",
      "223/223 [==============================] - 1s 5ms/step - loss: 105.0496\n",
      "Epoch 68/500\n",
      "223/223 [==============================] - 1s 6ms/step - loss: 104.2713\n",
      "Epoch 69/500\n",
      "223/223 [==============================] - 1s 6ms/step - loss: 104.1702\n",
      "Epoch 70/500\n",
      "223/223 [==============================] - 1s 6ms/step - loss: 104.2846\n",
      "Epoch 71/500\n",
      "223/223 [==============================] - 1s 6ms/step - loss: 104.4119\n",
      "Epoch 72/500\n",
      "223/223 [==============================] - 1s 6ms/step - loss: 103.6826\n",
      "Epoch 73/500\n",
      "223/223 [==============================] - 1s 6ms/step - loss: 103.4132\n",
      "Epoch 74/500\n",
      "223/223 [==============================] - 1s 6ms/step - loss: 103.3146\n",
      "Epoch 75/500\n",
      "223/223 [==============================] - 1s 6ms/step - loss: 103.2301\n",
      "Epoch 76/500\n",
      "223/223 [==============================] - 1s 5ms/step - loss: 103.1163\n",
      "Epoch 77/500\n",
      "223/223 [==============================] - 1s 4ms/step - loss: 103.4062\n",
      "Epoch 78/500\n",
      "223/223 [==============================] - 1s 4ms/step - loss: 102.9884\n",
      "Epoch 79/500\n",
      "223/223 [==============================] - 1s 4ms/step - loss: 102.5810\n",
      "Epoch 80/500\n",
      "223/223 [==============================] - 1s 4ms/step - loss: 102.8053\n",
      "Epoch 81/500\n",
      "223/223 [==============================] - 1s 6ms/step - loss: 102.9985\n",
      "Epoch 82/500\n",
      "223/223 [==============================] - 1s 7ms/step - loss: 102.4244\n",
      "Epoch 83/500\n",
      "223/223 [==============================] - 1s 7ms/step - loss: 102.0859\n",
      "Epoch 84/500\n",
      "223/223 [==============================] - 2s 7ms/step - loss: 102.0801\n",
      "Epoch 85/500\n",
      "223/223 [==============================] - 1s 6ms/step - loss: 102.2737\n",
      "Epoch 86/500\n",
      "223/223 [==============================] - 1s 5ms/step - loss: 102.1515\n",
      "Epoch 87/500\n",
      "223/223 [==============================] - 1s 5ms/step - loss: 102.4502\n",
      "Epoch 88/500\n",
      "223/223 [==============================] - 1s 5ms/step - loss: 101.5586\n",
      "Epoch 89/500\n",
      "223/223 [==============================] - 1s 6ms/step - loss: 101.7989\n",
      "Epoch 90/500\n",
      "223/223 [==============================] - 1s 5ms/step - loss: 101.6589\n",
      "Epoch 91/500\n",
      "223/223 [==============================] - 1s 5ms/step - loss: 101.4050\n",
      "Epoch 92/500\n",
      "223/223 [==============================] - 1s 5ms/step - loss: 101.3526\n",
      "Epoch 93/500\n",
      "223/223 [==============================] - 1s 5ms/step - loss: 101.5527\n",
      "Epoch 94/500\n",
      "223/223 [==============================] - 1s 5ms/step - loss: 101.3675\n",
      "Epoch 95/500\n",
      "223/223 [==============================] - 1s 5ms/step - loss: 101.3466\n",
      "Epoch 96/500\n",
      "223/223 [==============================] - 1s 5ms/step - loss: 101.2556\n",
      "Epoch 97/500\n",
      "223/223 [==============================] - 1s 5ms/step - loss: 100.7566\n",
      "Epoch 98/500\n",
      "223/223 [==============================] - 1s 5ms/step - loss: 101.3098\n",
      "Epoch 99/500\n",
      "223/223 [==============================] - 1s 5ms/step - loss: 101.2591\n",
      "Epoch 100/500\n",
      "223/223 [==============================] - 1s 5ms/step - loss: 100.6505\n",
      "Epoch 101/500\n",
      "223/223 [==============================] - 1s 6ms/step - loss: 100.6344\n",
      "Epoch 102/500\n",
      "223/223 [==============================] - 1s 5ms/step - loss: 100.2658\n",
      "Epoch 103/500\n",
      "223/223 [==============================] - 1s 5ms/step - loss: 100.6754\n",
      "Epoch 104/500\n",
      "223/223 [==============================] - 1s 5ms/step - loss: 100.5944\n",
      "Epoch 105/500\n",
      "223/223 [==============================] - 1s 5ms/step - loss: 100.3683\n",
      "Epoch 106/500\n",
      "223/223 [==============================] - 1s 5ms/step - loss: 100.4389\n",
      "Epoch 107/500\n",
      "223/223 [==============================] - 1s 6ms/step - loss: 100.5293\n",
      "Epoch 108/500\n",
      "223/223 [==============================] - 1s 6ms/step - loss: 100.0873\n",
      "Epoch 109/500\n",
      "223/223 [==============================] - 1s 6ms/step - loss: 100.0121\n",
      "Epoch 110/500\n",
      "223/223 [==============================] - 1s 5ms/step - loss: 100.1268\n",
      "Epoch 111/500\n",
      "223/223 [==============================] - 1s 4ms/step - loss: 100.1568\n",
      "Epoch 112/500\n",
      "223/223 [==============================] - 1s 4ms/step - loss: 99.7527\n",
      "Epoch 113/500\n",
      "223/223 [==============================] - 1s 4ms/step - loss: 100.8675\n",
      "Epoch 114/500\n",
      "223/223 [==============================] - 1s 5ms/step - loss: 100.1787\n",
      "Epoch 115/500\n",
      "223/223 [==============================] - 1s 6ms/step - loss: 99.9247\n",
      "Epoch 116/500\n",
      "223/223 [==============================] - 1s 6ms/step - loss: 99.7284\n",
      "Epoch 117/500\n",
      "223/223 [==============================] - 1s 5ms/step - loss: 100.4995\n",
      "Epoch 118/500\n",
      "223/223 [==============================] - 1s 5ms/step - loss: 99.9940\n",
      "Epoch 119/500\n",
      "223/223 [==============================] - 1s 5ms/step - loss: 99.2576\n",
      "Epoch 120/500\n",
      "223/223 [==============================] - 1s 5ms/step - loss: 99.9832\n",
      "Epoch 121/500\n",
      "223/223 [==============================] - 1s 6ms/step - loss: 99.6651\n",
      "Epoch 122/500\n",
      "223/223 [==============================] - 1s 6ms/step - loss: 99.0644\n",
      "Epoch 123/500\n",
      "223/223 [==============================] - 1s 6ms/step - loss: 99.3565\n",
      "Epoch 124/500\n",
      "223/223 [==============================] - 1s 5ms/step - loss: 99.8020\n",
      "Epoch 125/500\n",
      "223/223 [==============================] - 1s 5ms/step - loss: 98.9290\n",
      "Epoch 126/500\n",
      "223/223 [==============================] - 1s 5ms/step - loss: 99.7353\n",
      "Epoch 127/500\n",
      "223/223 [==============================] - 1s 5ms/step - loss: 99.6152\n",
      "Epoch 128/500\n",
      "223/223 [==============================] - 1s 4ms/step - loss: 99.5440\n",
      "Epoch 129/500\n",
      "223/223 [==============================] - 1s 4ms/step - loss: 99.4517\n",
      "Epoch 130/500\n",
      "223/223 [==============================] - 1s 4ms/step - loss: 99.3716\n",
      "Epoch 131/500\n",
      "223/223 [==============================] - 1s 5ms/step - loss: 99.2979\n",
      "Epoch 132/500\n",
      "223/223 [==============================] - 1s 5ms/step - loss: 98.8625\n",
      "Epoch 133/500\n",
      "223/223 [==============================] - 1s 5ms/step - loss: 99.4878\n",
      "Epoch 134/500\n",
      "223/223 [==============================] - 1s 6ms/step - loss: 99.0720\n",
      "Epoch 135/500\n",
      "223/223 [==============================] - 1s 7ms/step - loss: 99.1744\n",
      "Epoch 136/500\n",
      "223/223 [==============================] - 2s 7ms/step - loss: 99.1411\n",
      "Epoch 137/500\n",
      "223/223 [==============================] - 1s 7ms/step - loss: 99.1326\n",
      "Epoch 138/500\n",
      "223/223 [==============================] - 1s 6ms/step - loss: 98.9901\n",
      "Epoch 139/500\n",
      "223/223 [==============================] - 1s 5ms/step - loss: 99.3853\n",
      "Epoch 140/500\n",
      "223/223 [==============================] - 1s 5ms/step - loss: 98.9661\n",
      "Epoch 141/500\n",
      "223/223 [==============================] - 1s 5ms/step - loss: 98.6788\n",
      "Epoch 142/500\n",
      "223/223 [==============================] - 1s 5ms/step - loss: 98.9494\n",
      "Epoch 143/500\n",
      "223/223 [==============================] - 1s 5ms/step - loss: 98.7214\n",
      "Epoch 144/500\n",
      "223/223 [==============================] - 1s 4ms/step - loss: 98.9384\n",
      "Epoch 145/500\n",
      "223/223 [==============================] - 1s 4ms/step - loss: 99.4572\n",
      "Epoch 146/500\n",
      "223/223 [==============================] - 1s 4ms/step - loss: 98.3974\n",
      "Epoch 147/500\n",
      "223/223 [==============================] - 1s 4ms/step - loss: 98.5810\n",
      "Epoch 148/500\n",
      "223/223 [==============================] - 1s 4ms/step - loss: 98.6841\n",
      "Epoch 149/500\n",
      "223/223 [==============================] - 1s 5ms/step - loss: 98.7033\n",
      "Epoch 150/500\n",
      "223/223 [==============================] - 1s 6ms/step - loss: 98.3341\n",
      "Epoch 151/500\n",
      "223/223 [==============================] - 1s 6ms/step - loss: 98.3676\n",
      "Epoch 152/500\n",
      "223/223 [==============================] - 1s 6ms/step - loss: 98.9009\n",
      "Epoch 153/500\n",
      "223/223 [==============================] - 1s 5ms/step - loss: 98.5875\n",
      "Epoch 154/500\n",
      "223/223 [==============================] - 1s 5ms/step - loss: 98.9919\n",
      "Epoch 155/500\n",
      "223/223 [==============================] - 1s 5ms/step - loss: 98.3649\n",
      "Epoch 156/500\n",
      "223/223 [==============================] - 2s 7ms/step - loss: 98.3392\n",
      "Epoch 157/500\n",
      "223/223 [==============================] - 1s 6ms/step - loss: 98.5316\n",
      "Epoch 158/500\n",
      "223/223 [==============================] - 1s 6ms/step - loss: 97.9583\n",
      "Epoch 159/500\n",
      "223/223 [==============================] - 2s 7ms/step - loss: 98.4279\n",
      "Epoch 160/500\n",
      "223/223 [==============================] - 1s 5ms/step - loss: 98.5587\n",
      "Epoch 161/500\n",
      "223/223 [==============================] - 1s 5ms/step - loss: 98.1060\n",
      "Epoch 162/500\n",
      "223/223 [==============================] - 1s 5ms/step - loss: 98.4314\n",
      "Epoch 163/500\n",
      "223/223 [==============================] - 1s 5ms/step - loss: 99.1405\n",
      "Epoch 164/500\n",
      "223/223 [==============================] - 1s 5ms/step - loss: 98.0207\n",
      "Epoch 165/500\n",
      "223/223 [==============================] - 1s 5ms/step - loss: 98.4189\n",
      "Epoch 166/500\n",
      "223/223 [==============================] - 1s 6ms/step - loss: 98.6049\n",
      "Epoch 167/500\n",
      "223/223 [==============================] - 2s 7ms/step - loss: 98.3078\n",
      "Epoch 168/500\n",
      "223/223 [==============================] - 1s 6ms/step - loss: 98.2618\n",
      "Epoch 169/500\n",
      "223/223 [==============================] - 1s 5ms/step - loss: 98.4343\n",
      "Epoch 170/500\n",
      "223/223 [==============================] - 1s 5ms/step - loss: 98.0889\n",
      "Epoch 171/500\n",
      "223/223 [==============================] - 1s 5ms/step - loss: 98.0757\n",
      "Epoch 172/500\n",
      "223/223 [==============================] - 1s 5ms/step - loss: 97.9130\n",
      "Epoch 173/500\n",
      "223/223 [==============================] - 1s 5ms/step - loss: 98.2685\n",
      "Epoch 174/500\n",
      "223/223 [==============================] - 1s 5ms/step - loss: 97.8615\n",
      "Epoch 175/500\n",
      "223/223 [==============================] - 1s 5ms/step - loss: 98.2658\n",
      "Epoch 176/500\n",
      "223/223 [==============================] - 1s 7ms/step - loss: 98.0139\n",
      "Epoch 177/500\n",
      "223/223 [==============================] - 1s 6ms/step - loss: 98.4137\n",
      "Epoch 178/500\n",
      "223/223 [==============================] - 1s 4ms/step - loss: 97.9620\n",
      "Epoch 179/500\n",
      "223/223 [==============================] - 1s 4ms/step - loss: 97.7655\n",
      "Epoch 180/500\n",
      "223/223 [==============================] - 1s 4ms/step - loss: 98.4424\n",
      "Epoch 181/500\n",
      "223/223 [==============================] - 1s 4ms/step - loss: 98.0767\n",
      "Epoch 182/500\n",
      "223/223 [==============================] - 1s 5ms/step - loss: 97.9238\n",
      "Epoch 183/500\n",
      "223/223 [==============================] - 1s 6ms/step - loss: 97.6952\n",
      "Epoch 184/500\n",
      "223/223 [==============================] - 1s 6ms/step - loss: 98.3284\n",
      "Epoch 185/500\n",
      "223/223 [==============================] - 1s 7ms/step - loss: 98.3098\n",
      "Epoch 186/500\n",
      "223/223 [==============================] - 1s 6ms/step - loss: 97.4374\n",
      "Epoch 187/500\n",
      "223/223 [==============================] - 1s 5ms/step - loss: 98.2575\n",
      "Epoch 188/500\n",
      "223/223 [==============================] - 1s 5ms/step - loss: 97.4163\n",
      "Epoch 189/500\n",
      "223/223 [==============================] - 1s 6ms/step - loss: 97.6653\n",
      "Epoch 190/500\n",
      "223/223 [==============================] - 1s 7ms/step - loss: 97.9643\n",
      "Epoch 191/500\n",
      "223/223 [==============================] - 1s 6ms/step - loss: 97.7690\n",
      "Epoch 192/500\n",
      "223/223 [==============================] - 1s 5ms/step - loss: 97.4857\n",
      "Epoch 193/500\n"
     ]
    },
    {
     "name": "stdout",
     "output_type": "stream",
     "text": [
      "223/223 [==============================] - 1s 5ms/step - loss: 97.7678\n",
      "Epoch 194/500\n",
      "223/223 [==============================] - 1s 5ms/step - loss: 97.5361\n",
      "Epoch 195/500\n",
      "223/223 [==============================] - 1s 4ms/step - loss: 97.8565\n",
      "Epoch 196/500\n",
      "223/223 [==============================] - 1s 4ms/step - loss: 97.4259\n",
      "Epoch 197/500\n",
      "223/223 [==============================] - 1s 4ms/step - loss: 97.8842\n",
      "Epoch 198/500\n",
      "223/223 [==============================] - 1s 4ms/step - loss: 97.7193\n",
      "Epoch 199/500\n",
      "223/223 [==============================] - 1s 5ms/step - loss: 97.9235\n",
      "Epoch 200/500\n",
      "223/223 [==============================] - 1s 5ms/step - loss: 97.2941\n",
      "Epoch 201/500\n",
      "223/223 [==============================] - 1s 5ms/step - loss: 97.9856\n",
      "Epoch 202/500\n",
      "223/223 [==============================] - 1s 5ms/step - loss: 97.8450\n",
      "Epoch 203/500\n",
      "223/223 [==============================] - 2s 8ms/step - loss: 97.4435\n",
      "Epoch 204/500\n",
      "223/223 [==============================] - 2s 8ms/step - loss: 97.8956\n",
      "Epoch 205/500\n",
      "223/223 [==============================] - 2s 7ms/step - loss: 97.5357\n",
      "Epoch 206/500\n",
      "223/223 [==============================] - 1s 7ms/step - loss: 97.7380\n",
      "Epoch 207/500\n",
      "223/223 [==============================] - 1s 6ms/step - loss: 97.2251\n",
      "Epoch 208/500\n",
      "223/223 [==============================] - 1s 7ms/step - loss: 97.6802\n",
      "Epoch 209/500\n",
      "223/223 [==============================] - 2s 7ms/step - loss: 97.3263\n",
      "Epoch 210/500\n",
      "223/223 [==============================] - 1s 6ms/step - loss: 97.7407\n",
      "Epoch 211/500\n",
      "223/223 [==============================] - 1s 4ms/step - loss: 97.1704\n",
      "Epoch 212/500\n",
      "223/223 [==============================] - 1s 4ms/step - loss: 97.4974\n",
      "Epoch 213/500\n",
      "223/223 [==============================] - 1s 4ms/step - loss: 97.0138\n",
      "Epoch 214/500\n",
      "223/223 [==============================] - 1s 4ms/step - loss: 97.1985\n",
      "Epoch 215/500\n",
      "223/223 [==============================] - 1s 6ms/step - loss: 97.8110\n",
      "Epoch 216/500\n",
      "223/223 [==============================] - 1s 7ms/step - loss: 97.2301\n",
      "Epoch 217/500\n",
      "223/223 [==============================] - 1s 6ms/step - loss: 96.9402\n",
      "Epoch 218/500\n",
      "223/223 [==============================] - 1s 6ms/step - loss: 97.0497\n",
      "Epoch 219/500\n",
      "223/223 [==============================] - 1s 5ms/step - loss: 97.2468\n",
      "Epoch 220/500\n",
      "223/223 [==============================] - 1s 6ms/step - loss: 97.3852\n",
      "Epoch 221/500\n",
      "223/223 [==============================] - 1s 5ms/step - loss: 97.0556\n",
      "Epoch 222/500\n",
      "223/223 [==============================] - 1s 6ms/step - loss: 96.9643\n",
      "Epoch 223/500\n",
      "223/223 [==============================] - 1s 5ms/step - loss: 97.1414\n",
      "Epoch 224/500\n",
      "223/223 [==============================] - 1s 5ms/step - loss: 97.2941\n",
      "Epoch 225/500\n",
      "223/223 [==============================] - 1s 5ms/step - loss: 97.4316\n",
      "Epoch 226/500\n",
      "223/223 [==============================] - 1s 5ms/step - loss: 97.3623\n",
      "Epoch 227/500\n",
      "223/223 [==============================] - 1s 5ms/step - loss: 97.0333\n",
      "Epoch 228/500\n",
      "223/223 [==============================] - 1s 4ms/step - loss: 97.3344\n",
      "Epoch 229/500\n",
      "223/223 [==============================] - 1s 5ms/step - loss: 97.3030\n",
      "Epoch 230/500\n",
      "223/223 [==============================] - 1s 4ms/step - loss: 97.1949\n",
      "Epoch 231/500\n",
      "223/223 [==============================] - 1s 6ms/step - loss: 96.8762\n",
      "Epoch 232/500\n",
      "223/223 [==============================] - 2s 7ms/step - loss: 96.7185\n",
      "Epoch 233/500\n",
      "223/223 [==============================] - 1s 6ms/step - loss: 97.3126\n",
      "Epoch 234/500\n",
      "223/223 [==============================] - 1s 6ms/step - loss: 97.1976\n",
      "Epoch 235/500\n",
      "223/223 [==============================] - 1s 5ms/step - loss: 97.3247\n",
      "Epoch 236/500\n",
      "223/223 [==============================] - 1s 5ms/step - loss: 96.7941\n",
      "Epoch 237/500\n",
      "223/223 [==============================] - 1s 5ms/step - loss: 97.1999\n",
      "Epoch 238/500\n",
      "223/223 [==============================] - 1s 5ms/step - loss: 97.1413\n",
      "Epoch 239/500\n",
      "223/223 [==============================] - 1s 5ms/step - loss: 97.1467\n",
      "Epoch 240/500\n",
      "223/223 [==============================] - 1s 5ms/step - loss: 96.8061\n",
      "Epoch 241/500\n",
      "223/223 [==============================] - 1s 6ms/step - loss: 96.6169\n",
      "Epoch 242/500\n",
      "223/223 [==============================] - 1s 6ms/step - loss: 96.8013\n",
      "Epoch 243/500\n",
      "223/223 [==============================] - 2s 7ms/step - loss: 96.3800\n",
      "Epoch 244/500\n",
      "223/223 [==============================] - 1s 5ms/step - loss: 97.0720\n",
      "Epoch 245/500\n",
      "223/223 [==============================] - 1s 4ms/step - loss: 96.7055\n",
      "Epoch 246/500\n",
      "223/223 [==============================] - 1s 4ms/step - loss: 97.1764\n",
      "Epoch 247/500\n",
      "223/223 [==============================] - 1s 4ms/step - loss: 96.7309\n",
      "Epoch 248/500\n",
      "223/223 [==============================] - 1s 5ms/step - loss: 96.7466\n",
      "Epoch 249/500\n",
      "223/223 [==============================] - 1s 5ms/step - loss: 96.4815\n",
      "Epoch 250/500\n",
      "223/223 [==============================] - 1s 5ms/step - loss: 97.0117\n",
      "Epoch 251/500\n",
      "223/223 [==============================] - 1s 5ms/step - loss: 96.5470\n",
      "Epoch 252/500\n",
      "223/223 [==============================] - 1s 6ms/step - loss: 96.6329\n",
      "Epoch 253/500\n",
      "223/223 [==============================] - 1s 5ms/step - loss: 96.2847\n",
      "Epoch 254/500\n",
      "223/223 [==============================] - 1s 5ms/step - loss: 96.7256\n",
      "Epoch 255/500\n",
      "223/223 [==============================] - 1s 6ms/step - loss: 96.4677\n",
      "Epoch 256/500\n",
      "223/223 [==============================] - 1s 6ms/step - loss: 96.8003\n",
      "Epoch 257/500\n",
      "223/223 [==============================] - 2s 8ms/step - loss: 96.8596\n",
      "Epoch 258/500\n",
      "223/223 [==============================] - 2s 7ms/step - loss: 96.6269\n",
      "Epoch 259/500\n",
      "223/223 [==============================] - 1s 6ms/step - loss: 96.2079\n",
      "Epoch 260/500\n",
      "223/223 [==============================] - 1s 5ms/step - loss: 96.7227\n",
      "Epoch 261/500\n",
      "223/223 [==============================] - 1s 4ms/step - loss: 96.5577\n",
      "Epoch 262/500\n",
      "223/223 [==============================] - 1s 4ms/step - loss: 96.5742\n",
      "Epoch 263/500\n",
      "223/223 [==============================] - 1s 4ms/step - loss: 95.9229\n",
      "Epoch 264/500\n",
      "223/223 [==============================] - 1s 4ms/step - loss: 96.7638\n",
      "Epoch 265/500\n",
      "223/223 [==============================] - 1s 5ms/step - loss: 96.3128\n",
      "Epoch 266/500\n",
      "223/223 [==============================] - 1s 5ms/step - loss: 96.3976\n",
      "Epoch 267/500\n",
      "223/223 [==============================] - 1s 5ms/step - loss: 96.2022\n",
      "Epoch 268/500\n",
      "223/223 [==============================] - 1s 6ms/step - loss: 96.3807\n",
      "Epoch 269/500\n",
      "223/223 [==============================] - 1s 6ms/step - loss: 96.2112\n",
      "Epoch 270/500\n",
      "223/223 [==============================] - 1s 6ms/step - loss: 96.4589\n",
      "Epoch 271/500\n",
      "223/223 [==============================] - 1s 6ms/step - loss: 96.2590\n",
      "Epoch 272/500\n",
      "223/223 [==============================] - 1s 5ms/step - loss: 96.8278\n",
      "Epoch 273/500\n",
      "223/223 [==============================] - 1s 5ms/step - loss: 96.3684\n",
      "Epoch 274/500\n",
      "223/223 [==============================] - 1s 5ms/step - loss: 96.3335\n",
      "Epoch 275/500\n",
      "223/223 [==============================] - 1s 6ms/step - loss: 96.2527\n",
      "Epoch 276/500\n",
      "223/223 [==============================] - 1s 5ms/step - loss: 96.2949\n",
      "Epoch 277/500\n",
      "223/223 [==============================] - 1s 5ms/step - loss: 95.8887\n",
      "Epoch 278/500\n",
      "223/223 [==============================] - 1s 4ms/step - loss: 95.8713\n",
      "Epoch 279/500\n",
      "223/223 [==============================] - 1s 4ms/step - loss: 95.9587\n",
      "Epoch 280/500\n",
      "223/223 [==============================] - 1s 4ms/step - loss: 96.3584\n",
      "Epoch 281/500\n",
      "223/223 [==============================] - 1s 4ms/step - loss: 96.0910\n",
      "Epoch 282/500\n",
      "223/223 [==============================] - 2s 7ms/step - loss: 95.8737\n",
      "Epoch 283/500\n",
      "223/223 [==============================] - 2s 7ms/step - loss: 96.0157\n",
      "Epoch 284/500\n",
      "223/223 [==============================] - 2s 8ms/step - loss: 96.1644\n",
      "Epoch 285/500\n",
      "223/223 [==============================] - 2s 7ms/step - loss: 95.8070\n",
      "Epoch 286/500\n",
      "223/223 [==============================] - 1s 6ms/step - loss: 96.8027\n",
      "Epoch 287/500\n",
      "223/223 [==============================] - 1s 6ms/step - loss: 95.8770\n",
      "Epoch 288/500\n",
      "223/223 [==============================] - 1s 6ms/step - loss: 96.0144\n",
      "Epoch 289/500\n",
      "223/223 [==============================] - 1s 6ms/step - loss: 95.8036\n",
      "Epoch 290/500\n",
      "223/223 [==============================] - 1s 6ms/step - loss: 95.7540\n",
      "Epoch 291/500\n",
      "223/223 [==============================] - 1s 5ms/step - loss: 96.1584\n",
      "Epoch 292/500\n",
      "223/223 [==============================] - 1s 5ms/step - loss: 96.2251\n",
      "Epoch 293/500\n",
      "223/223 [==============================] - 1s 5ms/step - loss: 95.6559\n",
      "Epoch 294/500\n",
      "223/223 [==============================] - 1s 5ms/step - loss: 96.0959\n",
      "Epoch 295/500\n",
      "223/223 [==============================] - 1s 5ms/step - loss: 95.8516\n",
      "Epoch 296/500\n",
      "223/223 [==============================] - 1s 5ms/step - loss: 95.8789\n",
      "Epoch 297/500\n",
      "223/223 [==============================] - 1s 4ms/step - loss: 95.7959\n",
      "Epoch 298/500\n",
      "223/223 [==============================] - 1s 5ms/step - loss: 95.5723\n",
      "Epoch 299/500\n",
      "223/223 [==============================] - 1s 5ms/step - loss: 95.6809\n",
      "Epoch 300/500\n",
      "223/223 [==============================] - 1s 6ms/step - loss: 95.7746\n",
      "Epoch 301/500\n",
      "223/223 [==============================] - 1s 6ms/step - loss: 95.7258\n",
      "Epoch 302/500\n",
      "223/223 [==============================] - 1s 6ms/step - loss: 95.6244\n",
      "Epoch 303/500\n",
      "223/223 [==============================] - 1s 6ms/step - loss: 95.6228\n",
      "Epoch 304/500\n",
      "223/223 [==============================] - 1s 6ms/step - loss: 95.8371\n",
      "Epoch 305/500\n",
      "223/223 [==============================] - 1s 5ms/step - loss: 96.0416\n",
      "Epoch 306/500\n",
      "223/223 [==============================] - 1s 6ms/step - loss: 95.9107\n",
      "Epoch 307/500\n",
      "223/223 [==============================] - 1s 6ms/step - loss: 95.8281\n",
      "Epoch 308/500\n",
      "223/223 [==============================] - 2s 7ms/step - loss: 95.5294\n",
      "Epoch 309/500\n",
      "223/223 [==============================] - 1s 6ms/step - loss: 95.1457\n",
      "Epoch 310/500\n",
      "223/223 [==============================] - 1s 5ms/step - loss: 95.7449\n",
      "Epoch 311/500\n",
      "223/223 [==============================] - 1s 4ms/step - loss: 95.3246\n",
      "Epoch 312/500\n",
      "223/223 [==============================] - 1s 4ms/step - loss: 96.0376\n",
      "Epoch 313/500\n",
      "223/223 [==============================] - 1s 3ms/step - loss: 95.0603\n",
      "Epoch 314/500\n",
      "223/223 [==============================] - 1s 4ms/step - loss: 95.5642\n",
      "Epoch 315/500\n",
      "223/223 [==============================] - 1s 5ms/step - loss: 95.3711\n",
      "Epoch 316/500\n",
      "223/223 [==============================] - 1s 5ms/step - loss: 95.5529\n",
      "Epoch 317/500\n",
      "223/223 [==============================] - 1s 5ms/step - loss: 95.1462\n",
      "Epoch 318/500\n",
      "223/223 [==============================] - 1s 5ms/step - loss: 95.8947\n",
      "Epoch 319/500\n",
      "223/223 [==============================] - 1s 6ms/step - loss: 95.9007\n",
      "Epoch 320/500\n",
      "223/223 [==============================] - 1s 5ms/step - loss: 95.2652\n",
      "Epoch 321/500\n",
      "223/223 [==============================] - 1s 5ms/step - loss: 95.0923\n",
      "Epoch 322/500\n",
      "223/223 [==============================] - 1s 5ms/step - loss: 95.3704\n",
      "Epoch 323/500\n",
      "223/223 [==============================] - 1s 6ms/step - loss: 95.4991\n",
      "Epoch 324/500\n",
      "223/223 [==============================] - 1s 6ms/step - loss: 95.4842\n",
      "Epoch 325/500\n",
      "223/223 [==============================] - 1s 6ms/step - loss: 95.2782\n",
      "Epoch 326/500\n",
      "223/223 [==============================] - 1s 5ms/step - loss: 95.8632\n",
      "Epoch 327/500\n",
      "223/223 [==============================] - 1s 5ms/step - loss: 95.1782\n",
      "Epoch 328/500\n",
      "223/223 [==============================] - 1s 5ms/step - loss: 95.2448\n",
      "Epoch 329/500\n",
      "223/223 [==============================] - 1s 4ms/step - loss: 95.7807\n",
      "Epoch 330/500\n",
      "223/223 [==============================] - 1s 5ms/step - loss: 95.2835\n",
      "Epoch 331/500\n",
      "223/223 [==============================] - 1s 4ms/step - loss: 95.2785\n",
      "Epoch 332/500\n",
      "223/223 [==============================] - 1s 4ms/step - loss: 95.1913\n",
      "Epoch 333/500\n",
      "223/223 [==============================] - 1s 6ms/step - loss: 95.0121\n",
      "Epoch 334/500\n",
      "223/223 [==============================] - 1s 6ms/step - loss: 95.1770\n",
      "Epoch 335/500\n",
      "223/223 [==============================] - 1s 6ms/step - loss: 95.4726\n",
      "Epoch 336/500\n",
      "223/223 [==============================] - 1s 6ms/step - loss: 94.7473\n",
      "Epoch 337/500\n",
      "223/223 [==============================] - 1s 6ms/step - loss: 95.4033\n",
      "Epoch 338/500\n",
      "223/223 [==============================] - 1s 6ms/step - loss: 95.1894\n",
      "Epoch 339/500\n",
      "223/223 [==============================] - 1s 6ms/step - loss: 94.8389\n",
      "Epoch 340/500\n",
      "223/223 [==============================] - 1s 5ms/step - loss: 95.3577\n",
      "Epoch 341/500\n",
      "223/223 [==============================] - 1s 5ms/step - loss: 95.0792\n",
      "Epoch 342/500\n",
      "223/223 [==============================] - 1s 5ms/step - loss: 95.4949\n",
      "Epoch 343/500\n",
      "223/223 [==============================] - 1s 5ms/step - loss: 95.0309\n",
      "Epoch 344/500\n",
      "223/223 [==============================] - 1s 5ms/step - loss: 95.1424\n",
      "Epoch 345/500\n",
      "223/223 [==============================] - 1s 5ms/step - loss: 94.8519\n",
      "Epoch 346/500\n",
      "223/223 [==============================] - 1s 4ms/step - loss: 94.5994\n",
      "Epoch 347/500\n",
      "223/223 [==============================] - 1s 4ms/step - loss: 95.3181\n",
      "Epoch 348/500\n",
      "223/223 [==============================] - 1s 4ms/step - loss: 95.3942\n",
      "Epoch 349/500\n",
      "223/223 [==============================] - 1s 4ms/step - loss: 94.7645\n",
      "Epoch 350/500\n",
      "223/223 [==============================] - 1s 5ms/step - loss: 94.8400\n",
      "Epoch 351/500\n",
      "223/223 [==============================] - 1s 6ms/step - loss: 95.4837\n",
      "Epoch 352/500\n",
      "223/223 [==============================] - 1s 6ms/step - loss: 95.1447\n",
      "Epoch 353/500\n",
      "223/223 [==============================] - 1s 6ms/step - loss: 94.8141\n",
      "Epoch 354/500\n",
      "223/223 [==============================] - 2s 7ms/step - loss: 95.3919\n",
      "Epoch 355/500\n",
      "223/223 [==============================] - 1s 6ms/step - loss: 95.4013\n",
      "Epoch 356/500\n",
      "223/223 [==============================] - 1s 6ms/step - loss: 94.9054\n",
      "Epoch 357/500\n",
      "223/223 [==============================] - 1s 6ms/step - loss: 94.8295\n",
      "Epoch 358/500\n",
      "223/223 [==============================] - 1s 6ms/step - loss: 94.5866\n",
      "Epoch 359/500\n",
      "223/223 [==============================] - 1s 6ms/step - loss: 94.8972\n",
      "Epoch 360/500\n",
      "223/223 [==============================] - 1s 6ms/step - loss: 94.7968\n",
      "Epoch 361/500\n",
      "223/223 [==============================] - 1s 5ms/step - loss: 94.5246\n",
      "Epoch 362/500\n",
      "223/223 [==============================] - 1s 5ms/step - loss: 95.0508\n",
      "Epoch 363/500\n",
      "223/223 [==============================] - 1s 5ms/step - loss: 94.6570\n",
      "Epoch 364/500\n",
      "223/223 [==============================] - 1s 5ms/step - loss: 94.8671\n",
      "Epoch 365/500\n",
      "223/223 [==============================] - 1s 5ms/step - loss: 94.6277\n",
      "Epoch 366/500\n",
      "223/223 [==============================] - 1s 5ms/step - loss: 94.2869\n",
      "Epoch 367/500\n",
      "223/223 [==============================] - 1s 5ms/step - loss: 94.8776\n",
      "Epoch 368/500\n",
      "223/223 [==============================] - 1s 5ms/step - loss: 95.1553\n",
      "Epoch 369/500\n",
      "223/223 [==============================] - 1s 5ms/step - loss: 94.4965\n",
      "Epoch 370/500\n",
      "223/223 [==============================] - 1s 5ms/step - loss: 94.6234\n",
      "Epoch 371/500\n",
      "223/223 [==============================] - 1s 5ms/step - loss: 94.3716\n",
      "Epoch 372/500\n",
      "223/223 [==============================] - 1s 5ms/step - loss: 94.8419\n",
      "Epoch 373/500\n",
      "223/223 [==============================] - 1s 5ms/step - loss: 95.3381\n",
      "Epoch 374/500\n",
      "223/223 [==============================] - 1s 5ms/step - loss: 94.5957\n",
      "Epoch 375/500\n",
      "223/223 [==============================] - 1s 5ms/step - loss: 94.7355\n",
      "Epoch 376/500\n",
      "223/223 [==============================] - 1s 5ms/step - loss: 94.5617\n",
      "Epoch 377/500\n",
      "223/223 [==============================] - 1s 5ms/step - loss: 94.5122\n",
      "Epoch 378/500\n",
      "223/223 [==============================] - 1s 6ms/step - loss: 94.7739\n",
      "Epoch 379/500\n",
      "223/223 [==============================] - 1s 6ms/step - loss: 94.4113\n",
      "Epoch 380/500\n",
      "223/223 [==============================] - 1s 5ms/step - loss: 94.8737\n",
      "Epoch 381/500\n",
      "223/223 [==============================] - 1s 4ms/step - loss: 95.4373\n",
      "Epoch 382/500\n",
      "223/223 [==============================] - 1s 4ms/step - loss: 94.5721\n",
      "Epoch 383/500\n",
      "223/223 [==============================] - 1s 4ms/step - loss: 94.8577\n",
      "Epoch 384/500\n",
      "223/223 [==============================] - 1s 4ms/step - loss: 94.6329\n",
      "Epoch 385/500\n"
     ]
    },
    {
     "name": "stdout",
     "output_type": "stream",
     "text": [
      "223/223 [==============================] - 1s 6ms/step - loss: 94.2690\n",
      "Epoch 386/500\n",
      "223/223 [==============================] - 1s 5ms/step - loss: 94.7098\n",
      "Epoch 387/500\n",
      "223/223 [==============================] - 1s 6ms/step - loss: 94.4597\n",
      "Epoch 388/500\n",
      "223/223 [==============================] - 1s 5ms/step - loss: 94.0175\n",
      "Epoch 389/500\n",
      "223/223 [==============================] - 1s 5ms/step - loss: 93.9171\n",
      "Epoch 390/500\n",
      "223/223 [==============================] - 1s 5ms/step - loss: 94.1004\n",
      "Epoch 391/500\n",
      "223/223 [==============================] - 1s 5ms/step - loss: 94.3381\n",
      "Epoch 392/500\n",
      "223/223 [==============================] - 1s 6ms/step - loss: 94.1011\n",
      "Epoch 393/500\n",
      "223/223 [==============================] - 1s 6ms/step - loss: 94.4029\n",
      "Epoch 394/500\n",
      "223/223 [==============================] - 1s 6ms/step - loss: 95.2136\n",
      "Epoch 395/500\n",
      "223/223 [==============================] - 1s 5ms/step - loss: 94.5620\n",
      "Epoch 396/500\n",
      "223/223 [==============================] - 1s 5ms/step - loss: 94.4884\n",
      "Epoch 397/500\n",
      "223/223 [==============================] - 1s 5ms/step - loss: 95.0621\n",
      "Epoch 398/500\n",
      "223/223 [==============================] - 1s 4ms/step - loss: 94.3259\n",
      "Epoch 399/500\n",
      "223/223 [==============================] - 1s 4ms/step - loss: 94.0702\n",
      "Epoch 400/500\n",
      "223/223 [==============================] - 1s 4ms/step - loss: 93.9270\n",
      "Epoch 401/500\n",
      "223/223 [==============================] - 1s 3ms/step - loss: 94.0777\n",
      "Epoch 402/500\n",
      "223/223 [==============================] - 1s 4ms/step - loss: 94.5511\n",
      "Epoch 403/500\n",
      "223/223 [==============================] - 1s 5ms/step - loss: 94.2325\n",
      "Epoch 404/500\n",
      "223/223 [==============================] - 1s 5ms/step - loss: 94.4421\n",
      "Epoch 405/500\n",
      "223/223 [==============================] - 1s 5ms/step - loss: 94.4903\n",
      "Epoch 406/500\n",
      "223/223 [==============================] - 1s 5ms/step - loss: 94.0697\n",
      "Epoch 407/500\n",
      "223/223 [==============================] - 1s 6ms/step - loss: 94.1090\n",
      "Epoch 408/500\n",
      "223/223 [==============================] - 1s 7ms/step - loss: 93.9920\n",
      "Epoch 409/500\n",
      "223/223 [==============================] - 1s 6ms/step - loss: 93.3835\n",
      "Epoch 410/500\n",
      "223/223 [==============================] - 1s 5ms/step - loss: 93.7119\n",
      "Epoch 411/500\n",
      "223/223 [==============================] - 1s 5ms/step - loss: 93.9971\n",
      "Epoch 412/500\n",
      "223/223 [==============================] - 1s 6ms/step - loss: 94.5264\n",
      "Epoch 413/500\n",
      "223/223 [==============================] - 1s 6ms/step - loss: 94.1891\n",
      "Epoch 414/500\n",
      "223/223 [==============================] - 1s 7ms/step - loss: 94.0161\n",
      "Epoch 415/500\n",
      "223/223 [==============================] - 2s 7ms/step - loss: 94.6407\n",
      "Epoch 416/500\n",
      "223/223 [==============================] - 1s 5ms/step - loss: 94.4785\n",
      "Epoch 417/500\n",
      "223/223 [==============================] - 1s 4ms/step - loss: 93.9505\n",
      "Epoch 418/500\n",
      "223/223 [==============================] - 1s 4ms/step - loss: 94.0787\n",
      "Epoch 419/500\n",
      "223/223 [==============================] - 1s 4ms/step - loss: 94.0667\n",
      "Epoch 420/500\n",
      "223/223 [==============================] - 1s 6ms/step - loss: 93.6362\n",
      "Epoch 421/500\n",
      "223/223 [==============================] - 1s 6ms/step - loss: 93.7270\n",
      "Epoch 422/500\n",
      "223/223 [==============================] - 1s 6ms/step - loss: 94.2096\n",
      "Epoch 423/500\n",
      "223/223 [==============================] - 1s 6ms/step - loss: 93.7135\n",
      "Epoch 424/500\n",
      "223/223 [==============================] - 1s 5ms/step - loss: 94.0495\n",
      "Epoch 425/500\n",
      "223/223 [==============================] - 1s 5ms/step - loss: 93.9102\n",
      "Epoch 426/500\n",
      "223/223 [==============================] - 1s 5ms/step - loss: 94.1216\n",
      "Epoch 427/500\n",
      "223/223 [==============================] - 1s 5ms/step - loss: 93.6187\n",
      "Epoch 428/500\n",
      "223/223 [==============================] - 1s 5ms/step - loss: 93.4018\n",
      "Epoch 429/500\n",
      "223/223 [==============================] - 1s 5ms/step - loss: 93.8516\n",
      "Epoch 430/500\n",
      "223/223 [==============================] - 1s 5ms/step - loss: 93.9791\n",
      "Epoch 431/500\n",
      "223/223 [==============================] - 1s 5ms/step - loss: 93.6473\n",
      "Epoch 432/500\n",
      "223/223 [==============================] - 1s 5ms/step - loss: 93.7193\n",
      "Epoch 433/500\n",
      "223/223 [==============================] - 1s 4ms/step - loss: 93.7231\n",
      "Epoch 434/500\n",
      "223/223 [==============================] - 1s 4ms/step - loss: 93.9431\n",
      "Epoch 435/500\n",
      "223/223 [==============================] - 1s 5ms/step - loss: 93.7122\n",
      "Epoch 436/500\n",
      "223/223 [==============================] - 1s 5ms/step - loss: 93.3341\n",
      "Epoch 437/500\n",
      "223/223 [==============================] - 1s 5ms/step - loss: 93.4404\n",
      "Epoch 438/500\n",
      "223/223 [==============================] - 2s 7ms/step - loss: 94.1914\n",
      "Epoch 439/500\n",
      "223/223 [==============================] - 1s 6ms/step - loss: 93.4589\n",
      "Epoch 440/500\n",
      "223/223 [==============================] - 1s 6ms/step - loss: 94.1080\n",
      "Epoch 441/500\n",
      "223/223 [==============================] - 1s 6ms/step - loss: 93.7110\n",
      "Epoch 442/500\n",
      "223/223 [==============================] - 1s 6ms/step - loss: 93.9669\n",
      "Epoch 443/500\n",
      "223/223 [==============================] - 1s 6ms/step - loss: 93.4817\n",
      "Epoch 444/500\n",
      "223/223 [==============================] - 1s 6ms/step - loss: 93.6626\n",
      "Epoch 445/500\n",
      "223/223 [==============================] - 1s 5ms/step - loss: 93.5389\n",
      "Epoch 446/500\n",
      "223/223 [==============================] - 1s 5ms/step - loss: 93.9154\n",
      "Epoch 447/500\n",
      "223/223 [==============================] - 1s 6ms/step - loss: 92.8763\n",
      "Epoch 448/500\n",
      "223/223 [==============================] - 1s 6ms/step - loss: 93.2618\n",
      "Epoch 449/500\n",
      "223/223 [==============================] - 1s 6ms/step - loss: 93.8621\n",
      "Epoch 450/500\n",
      "223/223 [==============================] - 1s 4ms/step - loss: 93.1506\n",
      "Epoch 451/500\n",
      "223/223 [==============================] - 1s 4ms/step - loss: 93.1742\n",
      "Epoch 452/500\n",
      "223/223 [==============================] - 1s 4ms/step - loss: 93.5229\n",
      "Epoch 453/500\n",
      "223/223 [==============================] - 1s 4ms/step - loss: 93.9607\n",
      "Epoch 454/500\n",
      "223/223 [==============================] - 1s 4ms/step - loss: 93.9278\n",
      "Epoch 455/500\n",
      "223/223 [==============================] - 1s 5ms/step - loss: 93.5503\n",
      "Epoch 456/500\n",
      "223/223 [==============================] - 1s 5ms/step - loss: 93.6323\n",
      "Epoch 457/500\n",
      "223/223 [==============================] - 2s 7ms/step - loss: 93.3351\n",
      "Epoch 458/500\n",
      "223/223 [==============================] - 1s 5ms/step - loss: 92.7294\n",
      "Epoch 459/500\n",
      "223/223 [==============================] - 1s 5ms/step - loss: 93.0214\n",
      "Epoch 460/500\n",
      "223/223 [==============================] - 1s 5ms/step - loss: 93.5921\n",
      "Epoch 461/500\n",
      "223/223 [==============================] - 1s 6ms/step - loss: 93.3748\n",
      "Epoch 462/500\n",
      "223/223 [==============================] - 1s 7ms/step - loss: 93.5315\n",
      "Epoch 463/500\n",
      "223/223 [==============================] - 2s 8ms/step - loss: 93.0254\n",
      "Epoch 464/500\n",
      "223/223 [==============================] - 2s 7ms/step - loss: 92.6886\n",
      "Epoch 465/500\n",
      "223/223 [==============================] - 1s 6ms/step - loss: 93.0072\n",
      "Epoch 466/500\n",
      "223/223 [==============================] - 1s 5ms/step - loss: 93.2336\n",
      "Epoch 467/500\n",
      "223/223 [==============================] - 1s 5ms/step - loss: 93.0969\n",
      "Epoch 468/500\n",
      "223/223 [==============================] - 1s 4ms/step - loss: 94.0069\n",
      "Epoch 469/500\n",
      "223/223 [==============================] - 1s 5ms/step - loss: 93.0234\n",
      "Epoch 470/500\n",
      "223/223 [==============================] - 1s 5ms/step - loss: 92.7686\n",
      "Epoch 471/500\n",
      "223/223 [==============================] - 1s 5ms/step - loss: 94.0495\n",
      "Epoch 472/500\n",
      "223/223 [==============================] - 1s 5ms/step - loss: 92.9830\n",
      "Epoch 473/500\n",
      "223/223 [==============================] - 1s 6ms/step - loss: 92.3615\n",
      "Epoch 474/500\n",
      "223/223 [==============================] - 1s 6ms/step - loss: 93.5513\n",
      "Epoch 475/500\n",
      "223/223 [==============================] - 1s 6ms/step - loss: 92.8408\n",
      "Epoch 476/500\n",
      "223/223 [==============================] - 1s 6ms/step - loss: 93.2453\n",
      "Epoch 477/500\n",
      "223/223 [==============================] - 1s 5ms/step - loss: 93.5402\n",
      "Epoch 478/500\n",
      "223/223 [==============================] - 1s 5ms/step - loss: 92.6367\n",
      "Epoch 479/500\n",
      "223/223 [==============================] - 1s 5ms/step - loss: 93.3671\n",
      "Epoch 480/500\n",
      "223/223 [==============================] - 1s 5ms/step - loss: 92.7205\n",
      "Epoch 481/500\n",
      "223/223 [==============================] - 1s 5ms/step - loss: 93.8538\n",
      "Epoch 482/500\n",
      "223/223 [==============================] - 1s 5ms/step - loss: 93.4273\n",
      "Epoch 483/500\n",
      "223/223 [==============================] - 1s 5ms/step - loss: 93.3716\n",
      "Epoch 484/500\n",
      "223/223 [==============================] - 1s 4ms/step - loss: 93.1689\n",
      "Epoch 485/500\n",
      "223/223 [==============================] - 1s 4ms/step - loss: 92.9384\n",
      "Epoch 486/500\n",
      "223/223 [==============================] - 1s 4ms/step - loss: 93.2190\n",
      "Epoch 487/500\n",
      "223/223 [==============================] - 1s 4ms/step - loss: 93.4798\n",
      "Epoch 488/500\n",
      "223/223 [==============================] - 1s 4ms/step - loss: 92.9813\n",
      "Epoch 489/500\n",
      "223/223 [==============================] - 2s 8ms/step - loss: 93.5115\n",
      "Epoch 490/500\n",
      "223/223 [==============================] - 2s 7ms/step - loss: 93.0807\n",
      "Epoch 491/500\n",
      "223/223 [==============================] - 2s 8ms/step - loss: 93.0901\n",
      "Epoch 492/500\n",
      "223/223 [==============================] - 1s 6ms/step - loss: 93.0991\n",
      "Epoch 493/500\n",
      "223/223 [==============================] - 1s 5ms/step - loss: 92.8072\n",
      "Epoch 494/500\n",
      "223/223 [==============================] - 1s 5ms/step - loss: 92.9972\n",
      "Epoch 495/500\n",
      "223/223 [==============================] - 1s 5ms/step - loss: 93.1448\n",
      "Epoch 496/500\n",
      "223/223 [==============================] - 1s 5ms/step - loss: 92.3975\n",
      "Epoch 497/500\n",
      "223/223 [==============================] - 1s 5ms/step - loss: 93.0912\n",
      "Epoch 498/500\n",
      "223/223 [==============================] - 1s 5ms/step - loss: 92.9040\n",
      "Epoch 499/500\n",
      "223/223 [==============================] - 1s 5ms/step - loss: 92.6772\n",
      "Epoch 500/500\n",
      "223/223 [==============================] - 1s 5ms/step - loss: 92.8408\n"
     ]
    },
    {
     "data": {
      "text/plain": [
       "<keras.callbacks.History at 0x191219bfaf0>"
      ]
     },
     "execution_count": 314,
     "metadata": {},
     "output_type": "execute_result"
    }
   ],
   "source": [
    "# Dividir los datos en conjuntos de entrenamiento y prueba\n",
    "X_train, X_test, y_train, y_test = train_test_split(x, y, test_size=0.3, random_state=42)\n",
    "\n",
    "# Escalar los datos\n",
    "scaler = StandardScaler()\n",
    "X_train_scaled = scaler.fit_transform(X_train)\n",
    "X_test_scaled = scaler.transform(X_test)\n",
    "\n",
    "# Construir el modelo de Red Neuronal Artificial (ANN)\n",
    "model = Sequential()\n",
    "model.add(Dense(256, activation='relu', input_shape=(X_train_scaled.shape[1],)))\n",
    "model.add(Dense(128, activation='relu'))\n",
    "model.add(Dense(64, activation='relu'))\n",
    "model.add(Dense(32, activation='relu'))\n",
    "model.add(Dense(16, activation='relu'))\n",
    "model.add(Dense(8, activation='relu'))\n",
    "model.add(Dense(1))\n",
    "\n",
    "# Compilar el modelo\n",
    "optimizer = Adam(learning_rate=0.0001)  # Ajusta la tasa de aprendizaje según tus necesidades\n",
    "model.compile(optimizer=optimizer, loss='mean_squared_error')\n",
    "\n",
    "# Entrenar el modelo\n",
    "model.fit(X_train_scaled, y_train, epochs=500, batch_size=32)"
   ]
  },
  {
   "cell_type": "code",
   "execution_count": 315,
   "id": "23983e3b",
   "metadata": {},
   "outputs": [
    {
     "name": "stdout",
     "output_type": "stream",
     "text": [
      "96/96 [==============================] - 1s 3ms/step - loss: 102.8297\n",
      "Score: 102.82968139648438\n"
     ]
    }
   ],
   "source": [
    "# Evaluar el modelo en el conjunto de prueba\n",
    "score = model.evaluate(X_test_scaled, y_test)\n",
    "print(\"Score:\", score)"
   ]
  },
  {
   "cell_type": "markdown",
   "id": "aa4c78a4",
   "metadata": {},
   "source": [
    "* # Nose quedaremos con el valor de la Regresion Lineal.  Al parecer la redes neuronales no es un buen modelo para esta clase de trabajo. sigue arrojando valores muy malos. \n",
    "----\n",
    "* # Vamos a mejorar el modelo de la regresion lineal sobre las opiniones luego."
   ]
  },
  {
   "cell_type": "code",
   "execution_count": null,
   "id": "8a283ad3",
   "metadata": {},
   "outputs": [],
   "source": []
  },
  {
   "cell_type": "code",
   "execution_count": null,
   "id": "9a5950d9",
   "metadata": {},
   "outputs": [],
   "source": []
  },
  {
   "cell_type": "code",
   "execution_count": null,
   "id": "34a7151d",
   "metadata": {},
   "outputs": [],
   "source": []
  },
  {
   "cell_type": "code",
   "execution_count": null,
   "id": "0ec5733b",
   "metadata": {},
   "outputs": [],
   "source": []
  },
  {
   "cell_type": "code",
   "execution_count": null,
   "id": "ee47a478",
   "metadata": {},
   "outputs": [],
   "source": []
  },
  {
   "cell_type": "markdown",
   "id": "9adc1323",
   "metadata": {},
   "source": [
    "---\n",
    "* # REGRESIÓN LINEAL. (para predecir las ganancia)"
   ]
  },
  {
   "cell_type": "code",
   "execution_count": 57,
   "id": "e6f55d1e",
   "metadata": {},
   "outputs": [],
   "source": [
    "from sklearn.model_selection import train_test_split\n",
    "from sklearn.linear_model import LinearRegression"
   ]
  },
  {
   "cell_type": "code",
   "execution_count": 58,
   "id": "3fe63c1e",
   "metadata": {},
   "outputs": [],
   "source": [
    "X = data[[\"opiniones_usuarios\",\"presupuesto\",\"año_lanzamiento\"]]\n",
    "y = data[[\"ganancia\"]]"
   ]
  },
  {
   "cell_type": "code",
   "execution_count": 59,
   "id": "6e7dc0c5",
   "metadata": {},
   "outputs": [
    {
     "data": {
      "text/html": [
       "<style>#sk-container-id-4 {color: black;background-color: white;}#sk-container-id-4 pre{padding: 0;}#sk-container-id-4 div.sk-toggleable {background-color: white;}#sk-container-id-4 label.sk-toggleable__label {cursor: pointer;display: block;width: 100%;margin-bottom: 0;padding: 0.3em;box-sizing: border-box;text-align: center;}#sk-container-id-4 label.sk-toggleable__label-arrow:before {content: \"▸\";float: left;margin-right: 0.25em;color: #696969;}#sk-container-id-4 label.sk-toggleable__label-arrow:hover:before {color: black;}#sk-container-id-4 div.sk-estimator:hover label.sk-toggleable__label-arrow:before {color: black;}#sk-container-id-4 div.sk-toggleable__content {max-height: 0;max-width: 0;overflow: hidden;text-align: left;background-color: #f0f8ff;}#sk-container-id-4 div.sk-toggleable__content pre {margin: 0.2em;color: black;border-radius: 0.25em;background-color: #f0f8ff;}#sk-container-id-4 input.sk-toggleable__control:checked~div.sk-toggleable__content {max-height: 200px;max-width: 100%;overflow: auto;}#sk-container-id-4 input.sk-toggleable__control:checked~label.sk-toggleable__label-arrow:before {content: \"▾\";}#sk-container-id-4 div.sk-estimator input.sk-toggleable__control:checked~label.sk-toggleable__label {background-color: #d4ebff;}#sk-container-id-4 div.sk-label input.sk-toggleable__control:checked~label.sk-toggleable__label {background-color: #d4ebff;}#sk-container-id-4 input.sk-hidden--visually {border: 0;clip: rect(1px 1px 1px 1px);clip: rect(1px, 1px, 1px, 1px);height: 1px;margin: -1px;overflow: hidden;padding: 0;position: absolute;width: 1px;}#sk-container-id-4 div.sk-estimator {font-family: monospace;background-color: #f0f8ff;border: 1px dotted black;border-radius: 0.25em;box-sizing: border-box;margin-bottom: 0.5em;}#sk-container-id-4 div.sk-estimator:hover {background-color: #d4ebff;}#sk-container-id-4 div.sk-parallel-item::after {content: \"\";width: 100%;border-bottom: 1px solid gray;flex-grow: 1;}#sk-container-id-4 div.sk-label:hover label.sk-toggleable__label {background-color: #d4ebff;}#sk-container-id-4 div.sk-serial::before {content: \"\";position: absolute;border-left: 1px solid gray;box-sizing: border-box;top: 0;bottom: 0;left: 50%;z-index: 0;}#sk-container-id-4 div.sk-serial {display: flex;flex-direction: column;align-items: center;background-color: white;padding-right: 0.2em;padding-left: 0.2em;position: relative;}#sk-container-id-4 div.sk-item {position: relative;z-index: 1;}#sk-container-id-4 div.sk-parallel {display: flex;align-items: stretch;justify-content: center;background-color: white;position: relative;}#sk-container-id-4 div.sk-item::before, #sk-container-id-4 div.sk-parallel-item::before {content: \"\";position: absolute;border-left: 1px solid gray;box-sizing: border-box;top: 0;bottom: 0;left: 50%;z-index: -1;}#sk-container-id-4 div.sk-parallel-item {display: flex;flex-direction: column;z-index: 1;position: relative;background-color: white;}#sk-container-id-4 div.sk-parallel-item:first-child::after {align-self: flex-end;width: 50%;}#sk-container-id-4 div.sk-parallel-item:last-child::after {align-self: flex-start;width: 50%;}#sk-container-id-4 div.sk-parallel-item:only-child::after {width: 0;}#sk-container-id-4 div.sk-dashed-wrapped {border: 1px dashed gray;margin: 0 0.4em 0.5em 0.4em;box-sizing: border-box;padding-bottom: 0.4em;background-color: white;}#sk-container-id-4 div.sk-label label {font-family: monospace;font-weight: bold;display: inline-block;line-height: 1.2em;}#sk-container-id-4 div.sk-label-container {text-align: center;}#sk-container-id-4 div.sk-container {/* jupyter's `normalize.less` sets `[hidden] { display: none; }` but bootstrap.min.css set `[hidden] { display: none !important; }` so we also need the `!important` here to be able to override the default hidden behavior on the sphinx rendered scikit-learn.org. See: https://github.com/scikit-learn/scikit-learn/issues/21755 */display: inline-block !important;position: relative;}#sk-container-id-4 div.sk-text-repr-fallback {display: none;}</style><div id=\"sk-container-id-4\" class=\"sk-top-container\"><div class=\"sk-text-repr-fallback\"><pre>LinearRegression()</pre><b>In a Jupyter environment, please rerun this cell to show the HTML representation or trust the notebook. <br />On GitHub, the HTML representation is unable to render, please try loading this page with nbviewer.org.</b></div><div class=\"sk-container\" hidden><div class=\"sk-item\"><div class=\"sk-estimator sk-toggleable\"><input class=\"sk-toggleable__control sk-hidden--visually\" id=\"sk-estimator-id-4\" type=\"checkbox\" checked><label for=\"sk-estimator-id-4\" class=\"sk-toggleable__label sk-toggleable__label-arrow\">LinearRegression</label><div class=\"sk-toggleable__content\"><pre>LinearRegression()</pre></div></div></div></div></div>"
      ],
      "text/plain": [
       "LinearRegression()"
      ]
     },
     "execution_count": 59,
     "metadata": {},
     "output_type": "execute_result"
    }
   ],
   "source": [
    "lm = LinearRegression()\n",
    "lm.fit(X,y)"
   ]
  },
  {
   "cell_type": "code",
   "execution_count": 60,
   "id": "e10a976c",
   "metadata": {},
   "outputs": [
    {
     "data": {
      "text/plain": [
       "(array([-8.7208281e+08]),\n",
       " array([[5.57301789e+06, 3.57361411e+00, 2.68676647e+05]]))"
      ]
     },
     "execution_count": 60,
     "metadata": {},
     "output_type": "execute_result"
    }
   ],
   "source": [
    "lm.intercept_ , lm.coef_"
   ]
  },
  {
   "cell_type": "code",
   "execution_count": 61,
   "id": "17827893",
   "metadata": {},
   "outputs": [
    {
     "data": {
      "text/plain": [
       "52.32013000823509"
      ]
     },
     "execution_count": 61,
     "metadata": {},
     "output_type": "execute_result"
    }
   ],
   "source": [
    "lm.score(X,y)*100"
   ]
  },
  {
   "cell_type": "markdown",
   "id": "7747e6fa",
   "metadata": {},
   "source": [
    "* ### EN LA REGRESIÓN LINEAL SOBRE LAS GANANCIAS Obtenemos un resultado del %53.32 (es algo bueno por las pocas variables numerica que tenemos en cuenta para el modelo).\n",
    "----\n",
    "\n",
    "* # Luego en estos dias seguirmos mejorando el modelo "
   ]
  },
  {
   "cell_type": "code",
   "execution_count": null,
   "id": "2005bd33",
   "metadata": {},
   "outputs": [],
   "source": []
  },
  {
   "cell_type": "code",
   "execution_count": null,
   "id": "605b7201",
   "metadata": {},
   "outputs": [],
   "source": []
  },
  {
   "cell_type": "code",
   "execution_count": null,
   "id": "11df3268",
   "metadata": {},
   "outputs": [],
   "source": []
  },
  {
   "cell_type": "code",
   "execution_count": null,
   "id": "54734415",
   "metadata": {},
   "outputs": [],
   "source": []
  },
  {
   "cell_type": "code",
   "execution_count": null,
   "id": "03ee8557",
   "metadata": {},
   "outputs": [],
   "source": []
  },
  {
   "cell_type": "code",
   "execution_count": null,
   "id": "2073567b",
   "metadata": {
    "scrolled": true
   },
   "outputs": [],
   "source": []
  },
  {
   "cell_type": "code",
   "execution_count": null,
   "id": "68bc26b3",
   "metadata": {},
   "outputs": [],
   "source": []
  },
  {
   "cell_type": "code",
   "execution_count": null,
   "id": "f6305ef1",
   "metadata": {},
   "outputs": [],
   "source": []
  }
 ],
 "metadata": {
  "kernelspec": {
   "display_name": "Python 3 (ipykernel)",
   "language": "python",
   "name": "python3"
  },
  "language_info": {
   "codemirror_mode": {
    "name": "ipython",
    "version": 3
   },
   "file_extension": ".py",
   "mimetype": "text/x-python",
   "name": "python",
   "nbconvert_exporter": "python",
   "pygments_lexer": "ipython3",
   "version": "3.8.13"
  }
 },
 "nbformat": 4,
 "nbformat_minor": 5
}
